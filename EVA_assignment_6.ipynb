{
  "nbformat": 4,
  "nbformat_minor": 0,
  "metadata": {
    "colab": {
      "provenance": [],
      "mount_file_id": "16W2pKd3loTaRsnW3QYJW4-3weFUT0S1q",
      "authorship_tag": "ABX9TyOd2UjZUiKLdakHGdU9WZft",
      "include_colab_link": true
    },
    "kernelspec": {
      "name": "python3",
      "display_name": "Python 3"
    },
    "language_info": {
      "name": "python"
    },
    "accelerator": "GPU",
    "gpuClass": "standard",
    "widgets": {
      "application/vnd.jupyter.widget-state+json": {
        "da4fa69d078545ae93573538076bd25d": {
          "model_module": "@jupyter-widgets/controls",
          "model_name": "HBoxModel",
          "model_module_version": "1.5.0",
          "state": {
            "_dom_classes": [],
            "_model_module": "@jupyter-widgets/controls",
            "_model_module_version": "1.5.0",
            "_model_name": "HBoxModel",
            "_view_count": null,
            "_view_module": "@jupyter-widgets/controls",
            "_view_module_version": "1.5.0",
            "_view_name": "HBoxView",
            "box_style": "",
            "children": [
              "IPY_MODEL_813902bba26d431dbbbc74a359eecbe2",
              "IPY_MODEL_80f88a52c06647de9b34383f3d13ef5b",
              "IPY_MODEL_108aa4a8216040d896837ea1e95e2f44"
            ],
            "layout": "IPY_MODEL_c5efe408b3524f35b237c6825679234d"
          }
        },
        "813902bba26d431dbbbc74a359eecbe2": {
          "model_module": "@jupyter-widgets/controls",
          "model_name": "HTMLModel",
          "model_module_version": "1.5.0",
          "state": {
            "_dom_classes": [],
            "_model_module": "@jupyter-widgets/controls",
            "_model_module_version": "1.5.0",
            "_model_name": "HTMLModel",
            "_view_count": null,
            "_view_module": "@jupyter-widgets/controls",
            "_view_module_version": "1.5.0",
            "_view_name": "HTMLView",
            "description": "",
            "description_tooltip": null,
            "layout": "IPY_MODEL_aeabaa4be46046ef9aa72d634441a828",
            "placeholder": "​",
            "style": "IPY_MODEL_1c9598f6eec54a83a378133f3dd31f59",
            "value": "100%"
          }
        },
        "80f88a52c06647de9b34383f3d13ef5b": {
          "model_module": "@jupyter-widgets/controls",
          "model_name": "FloatProgressModel",
          "model_module_version": "1.5.0",
          "state": {
            "_dom_classes": [],
            "_model_module": "@jupyter-widgets/controls",
            "_model_module_version": "1.5.0",
            "_model_name": "FloatProgressModel",
            "_view_count": null,
            "_view_module": "@jupyter-widgets/controls",
            "_view_module_version": "1.5.0",
            "_view_name": "ProgressView",
            "bar_style": "success",
            "description": "",
            "description_tooltip": null,
            "layout": "IPY_MODEL_4cc15e6551234809bba330b59d43eb4e",
            "max": 170498071,
            "min": 0,
            "orientation": "horizontal",
            "style": "IPY_MODEL_8f983f9ad279478ca8831c37e2fb3b8f",
            "value": 170498071
          }
        },
        "108aa4a8216040d896837ea1e95e2f44": {
          "model_module": "@jupyter-widgets/controls",
          "model_name": "HTMLModel",
          "model_module_version": "1.5.0",
          "state": {
            "_dom_classes": [],
            "_model_module": "@jupyter-widgets/controls",
            "_model_module_version": "1.5.0",
            "_model_name": "HTMLModel",
            "_view_count": null,
            "_view_module": "@jupyter-widgets/controls",
            "_view_module_version": "1.5.0",
            "_view_name": "HTMLView",
            "description": "",
            "description_tooltip": null,
            "layout": "IPY_MODEL_006342f7a7f948c1b34d170f5d16af63",
            "placeholder": "​",
            "style": "IPY_MODEL_5356dc4d29a64104a5ca0a3968765512",
            "value": " 170498071/170498071 [00:05&lt;00:00, 32391894.94it/s]"
          }
        },
        "c5efe408b3524f35b237c6825679234d": {
          "model_module": "@jupyter-widgets/base",
          "model_name": "LayoutModel",
          "model_module_version": "1.2.0",
          "state": {
            "_model_module": "@jupyter-widgets/base",
            "_model_module_version": "1.2.0",
            "_model_name": "LayoutModel",
            "_view_count": null,
            "_view_module": "@jupyter-widgets/base",
            "_view_module_version": "1.2.0",
            "_view_name": "LayoutView",
            "align_content": null,
            "align_items": null,
            "align_self": null,
            "border": null,
            "bottom": null,
            "display": null,
            "flex": null,
            "flex_flow": null,
            "grid_area": null,
            "grid_auto_columns": null,
            "grid_auto_flow": null,
            "grid_auto_rows": null,
            "grid_column": null,
            "grid_gap": null,
            "grid_row": null,
            "grid_template_areas": null,
            "grid_template_columns": null,
            "grid_template_rows": null,
            "height": null,
            "justify_content": null,
            "justify_items": null,
            "left": null,
            "margin": null,
            "max_height": null,
            "max_width": null,
            "min_height": null,
            "min_width": null,
            "object_fit": null,
            "object_position": null,
            "order": null,
            "overflow": null,
            "overflow_x": null,
            "overflow_y": null,
            "padding": null,
            "right": null,
            "top": null,
            "visibility": null,
            "width": null
          }
        },
        "aeabaa4be46046ef9aa72d634441a828": {
          "model_module": "@jupyter-widgets/base",
          "model_name": "LayoutModel",
          "model_module_version": "1.2.0",
          "state": {
            "_model_module": "@jupyter-widgets/base",
            "_model_module_version": "1.2.0",
            "_model_name": "LayoutModel",
            "_view_count": null,
            "_view_module": "@jupyter-widgets/base",
            "_view_module_version": "1.2.0",
            "_view_name": "LayoutView",
            "align_content": null,
            "align_items": null,
            "align_self": null,
            "border": null,
            "bottom": null,
            "display": null,
            "flex": null,
            "flex_flow": null,
            "grid_area": null,
            "grid_auto_columns": null,
            "grid_auto_flow": null,
            "grid_auto_rows": null,
            "grid_column": null,
            "grid_gap": null,
            "grid_row": null,
            "grid_template_areas": null,
            "grid_template_columns": null,
            "grid_template_rows": null,
            "height": null,
            "justify_content": null,
            "justify_items": null,
            "left": null,
            "margin": null,
            "max_height": null,
            "max_width": null,
            "min_height": null,
            "min_width": null,
            "object_fit": null,
            "object_position": null,
            "order": null,
            "overflow": null,
            "overflow_x": null,
            "overflow_y": null,
            "padding": null,
            "right": null,
            "top": null,
            "visibility": null,
            "width": null
          }
        },
        "1c9598f6eec54a83a378133f3dd31f59": {
          "model_module": "@jupyter-widgets/controls",
          "model_name": "DescriptionStyleModel",
          "model_module_version": "1.5.0",
          "state": {
            "_model_module": "@jupyter-widgets/controls",
            "_model_module_version": "1.5.0",
            "_model_name": "DescriptionStyleModel",
            "_view_count": null,
            "_view_module": "@jupyter-widgets/base",
            "_view_module_version": "1.2.0",
            "_view_name": "StyleView",
            "description_width": ""
          }
        },
        "4cc15e6551234809bba330b59d43eb4e": {
          "model_module": "@jupyter-widgets/base",
          "model_name": "LayoutModel",
          "model_module_version": "1.2.0",
          "state": {
            "_model_module": "@jupyter-widgets/base",
            "_model_module_version": "1.2.0",
            "_model_name": "LayoutModel",
            "_view_count": null,
            "_view_module": "@jupyter-widgets/base",
            "_view_module_version": "1.2.0",
            "_view_name": "LayoutView",
            "align_content": null,
            "align_items": null,
            "align_self": null,
            "border": null,
            "bottom": null,
            "display": null,
            "flex": null,
            "flex_flow": null,
            "grid_area": null,
            "grid_auto_columns": null,
            "grid_auto_flow": null,
            "grid_auto_rows": null,
            "grid_column": null,
            "grid_gap": null,
            "grid_row": null,
            "grid_template_areas": null,
            "grid_template_columns": null,
            "grid_template_rows": null,
            "height": null,
            "justify_content": null,
            "justify_items": null,
            "left": null,
            "margin": null,
            "max_height": null,
            "max_width": null,
            "min_height": null,
            "min_width": null,
            "object_fit": null,
            "object_position": null,
            "order": null,
            "overflow": null,
            "overflow_x": null,
            "overflow_y": null,
            "padding": null,
            "right": null,
            "top": null,
            "visibility": null,
            "width": null
          }
        },
        "8f983f9ad279478ca8831c37e2fb3b8f": {
          "model_module": "@jupyter-widgets/controls",
          "model_name": "ProgressStyleModel",
          "model_module_version": "1.5.0",
          "state": {
            "_model_module": "@jupyter-widgets/controls",
            "_model_module_version": "1.5.0",
            "_model_name": "ProgressStyleModel",
            "_view_count": null,
            "_view_module": "@jupyter-widgets/base",
            "_view_module_version": "1.2.0",
            "_view_name": "StyleView",
            "bar_color": null,
            "description_width": ""
          }
        },
        "006342f7a7f948c1b34d170f5d16af63": {
          "model_module": "@jupyter-widgets/base",
          "model_name": "LayoutModel",
          "model_module_version": "1.2.0",
          "state": {
            "_model_module": "@jupyter-widgets/base",
            "_model_module_version": "1.2.0",
            "_model_name": "LayoutModel",
            "_view_count": null,
            "_view_module": "@jupyter-widgets/base",
            "_view_module_version": "1.2.0",
            "_view_name": "LayoutView",
            "align_content": null,
            "align_items": null,
            "align_self": null,
            "border": null,
            "bottom": null,
            "display": null,
            "flex": null,
            "flex_flow": null,
            "grid_area": null,
            "grid_auto_columns": null,
            "grid_auto_flow": null,
            "grid_auto_rows": null,
            "grid_column": null,
            "grid_gap": null,
            "grid_row": null,
            "grid_template_areas": null,
            "grid_template_columns": null,
            "grid_template_rows": null,
            "height": null,
            "justify_content": null,
            "justify_items": null,
            "left": null,
            "margin": null,
            "max_height": null,
            "max_width": null,
            "min_height": null,
            "min_width": null,
            "object_fit": null,
            "object_position": null,
            "order": null,
            "overflow": null,
            "overflow_x": null,
            "overflow_y": null,
            "padding": null,
            "right": null,
            "top": null,
            "visibility": null,
            "width": null
          }
        },
        "5356dc4d29a64104a5ca0a3968765512": {
          "model_module": "@jupyter-widgets/controls",
          "model_name": "DescriptionStyleModel",
          "model_module_version": "1.5.0",
          "state": {
            "_model_module": "@jupyter-widgets/controls",
            "_model_module_version": "1.5.0",
            "_model_name": "DescriptionStyleModel",
            "_view_count": null,
            "_view_module": "@jupyter-widgets/base",
            "_view_module_version": "1.2.0",
            "_view_name": "StyleView",
            "description_width": ""
          }
        }
      }
    }
  },
  "cells": [
    {
      "cell_type": "markdown",
      "metadata": {
        "id": "view-in-github",
        "colab_type": "text"
      },
      "source": [
        "<a href=\"https://colab.research.google.com/github/devdastl/EVA-8_Phase-1_Assignment-6/blob/main/EVA_assignment_6.ipynb\" target=\"_parent\"><img src=\"https://colab.research.google.com/assets/colab-badge.svg\" alt=\"Open In Colab\"/></a>"
      ]
    },
    {
      "cell_type": "markdown",
      "source": [
        "## Clone assignment to setup python files"
      ],
      "metadata": {
        "id": "SDVEWWN805RR"
      }
    },
    {
      "cell_type": "code",
      "execution_count": 15,
      "metadata": {
        "colab": {
          "base_uri": "https://localhost:8080/"
        },
        "id": "8pLVu18acXg5",
        "outputId": "222aafea-f69d-492f-d9e8-b1cfee1d3e0a"
      },
      "outputs": [
        {
          "output_type": "stream",
          "name": "stdout",
          "text": [
            "Cloning into 'EVA-8_Phase-1_Assignment-6'...\n",
            "remote: Enumerating objects: 17, done.\u001b[K\n",
            "remote: Counting objects: 100% (17/17), done.\u001b[K\n",
            "remote: Compressing objects: 100% (15/15), done.\u001b[K\n",
            "remote: Total 17 (delta 1), reused 10 (delta 0), pack-reused 0\u001b[K\n",
            "Unpacking objects: 100% (17/17), 11.37 KiB | 3.79 MiB/s, done.\n"
          ]
        }
      ],
      "source": [
        "import os\n",
        "!git clone https://github.com/devdastl/EVA-8_Phase-1_Assignment-6.git\n",
        "os.chdir('EVA-8_Phase-1_Assignment-6')"
      ]
    },
    {
      "cell_type": "markdown",
      "source": [
        "## Install albumentation library!"
      ],
      "metadata": {
        "id": "uNw3uPcJ00qy"
      }
    },
    {
      "cell_type": "code",
      "source": [
        "!python3 -m pip install -U albumentations"
      ],
      "metadata": {
        "colab": {
          "base_uri": "https://localhost:8080/"
        },
        "id": "J0Xvm7UCdFr9",
        "outputId": "03d739c5-eb2a-4b70-da6a-f7693179a41d"
      },
      "execution_count": 2,
      "outputs": [
        {
          "output_type": "stream",
          "name": "stdout",
          "text": [
            "Looking in indexes: https://pypi.org/simple, https://us-python.pkg.dev/colab-wheels/public/simple/\n",
            "Requirement already satisfied: albumentations in /usr/local/lib/python3.8/dist-packages (1.2.1)\n",
            "Collecting albumentations\n",
            "  Downloading albumentations-1.3.0-py3-none-any.whl (123 kB)\n",
            "\u001b[2K     \u001b[90m━━━━━━━━━━━━━━━━━━━━━━━━━━━━━━━━━━━━━━━\u001b[0m \u001b[32m123.5/123.5 KB\u001b[0m \u001b[31m8.1 MB/s\u001b[0m eta \u001b[36m0:00:00\u001b[0m\n",
            "\u001b[?25hRequirement already satisfied: PyYAML in /usr/local/lib/python3.8/dist-packages (from albumentations) (6.0)\n",
            "Requirement already satisfied: qudida>=0.0.4 in /usr/local/lib/python3.8/dist-packages (from albumentations) (0.0.4)\n",
            "Requirement already satisfied: opencv-python-headless>=4.1.1 in /usr/local/lib/python3.8/dist-packages (from albumentations) (4.7.0.68)\n",
            "Requirement already satisfied: numpy>=1.11.1 in /usr/local/lib/python3.8/dist-packages (from albumentations) (1.21.6)\n",
            "Requirement already satisfied: scikit-image>=0.16.1 in /usr/local/lib/python3.8/dist-packages (from albumentations) (0.18.3)\n",
            "Requirement already satisfied: scipy in /usr/local/lib/python3.8/dist-packages (from albumentations) (1.7.3)\n",
            "Requirement already satisfied: typing-extensions in /usr/local/lib/python3.8/dist-packages (from qudida>=0.0.4->albumentations) (4.4.0)\n",
            "Requirement already satisfied: scikit-learn>=0.19.1 in /usr/local/lib/python3.8/dist-packages (from qudida>=0.0.4->albumentations) (1.0.2)\n",
            "Requirement already satisfied: networkx>=2.0 in /usr/local/lib/python3.8/dist-packages (from scikit-image>=0.16.1->albumentations) (3.0)\n",
            "Requirement already satisfied: tifffile>=2019.7.26 in /usr/local/lib/python3.8/dist-packages (from scikit-image>=0.16.1->albumentations) (2023.1.23.1)\n",
            "Requirement already satisfied: pillow!=7.1.0,!=7.1.1,>=4.3.0 in /usr/local/lib/python3.8/dist-packages (from scikit-image>=0.16.1->albumentations) (7.1.2)\n",
            "Requirement already satisfied: PyWavelets>=1.1.1 in /usr/local/lib/python3.8/dist-packages (from scikit-image>=0.16.1->albumentations) (1.4.1)\n",
            "Requirement already satisfied: imageio>=2.3.0 in /usr/local/lib/python3.8/dist-packages (from scikit-image>=0.16.1->albumentations) (2.9.0)\n",
            "Requirement already satisfied: matplotlib!=3.0.0,>=2.0.0 in /usr/local/lib/python3.8/dist-packages (from scikit-image>=0.16.1->albumentations) (3.2.2)\n",
            "Requirement already satisfied: cycler>=0.10 in /usr/local/lib/python3.8/dist-packages (from matplotlib!=3.0.0,>=2.0.0->scikit-image>=0.16.1->albumentations) (0.11.0)\n",
            "Requirement already satisfied: pyparsing!=2.0.4,!=2.1.2,!=2.1.6,>=2.0.1 in /usr/local/lib/python3.8/dist-packages (from matplotlib!=3.0.0,>=2.0.0->scikit-image>=0.16.1->albumentations) (3.0.9)\n",
            "Requirement already satisfied: kiwisolver>=1.0.1 in /usr/local/lib/python3.8/dist-packages (from matplotlib!=3.0.0,>=2.0.0->scikit-image>=0.16.1->albumentations) (1.4.4)\n",
            "Requirement already satisfied: python-dateutil>=2.1 in /usr/local/lib/python3.8/dist-packages (from matplotlib!=3.0.0,>=2.0.0->scikit-image>=0.16.1->albumentations) (2.8.2)\n",
            "Requirement already satisfied: joblib>=0.11 in /usr/local/lib/python3.8/dist-packages (from scikit-learn>=0.19.1->qudida>=0.0.4->albumentations) (1.2.0)\n",
            "Requirement already satisfied: threadpoolctl>=2.0.0 in /usr/local/lib/python3.8/dist-packages (from scikit-learn>=0.19.1->qudida>=0.0.4->albumentations) (3.1.0)\n",
            "Requirement already satisfied: six>=1.5 in /usr/local/lib/python3.8/dist-packages (from python-dateutil>=2.1->matplotlib!=3.0.0,>=2.0.0->scikit-image>=0.16.1->albumentations) (1.15.0)\n",
            "Installing collected packages: albumentations\n",
            "  Attempting uninstall: albumentations\n",
            "    Found existing installation: albumentations 1.2.1\n",
            "    Uninstalling albumentations-1.2.1:\n",
            "      Successfully uninstalled albumentations-1.2.1\n",
            "Successfully installed albumentations-1.3.0\n"
          ]
        }
      ]
    },
    {
      "cell_type": "markdown",
      "source": [
        "## Import required libraries"
      ],
      "metadata": {
        "id": "qcjVab5bqHeA"
      }
    },
    {
      "cell_type": "code",
      "source": [
        "from __future__ import print_function\n",
        "import torch\n",
        "import torch.nn as nn\n",
        "import torch.nn.functional as F\n",
        "import torch.optim as optim\n",
        "from torchvision import datasets, transforms\n",
        "\n",
        "#!python3 -m pip install -U torchvision"
      ],
      "metadata": {
        "id": "HHfXdgLaddrI"
      },
      "execution_count": 3,
      "outputs": []
    },
    {
      "cell_type": "markdown",
      "source": [
        "## Get CIFAR10 data from torchvision"
      ],
      "metadata": {
        "id": "33UpmGMSqOwl"
      }
    },
    {
      "cell_type": "code",
      "source": [
        "from components.data import Dataset\n",
        "\n",
        "\n",
        "my_cifar10_train = Dataset('CIFAR10', train=True, batch_size=128)\n",
        "my_cifar10_test = Dataset('CIFAR10', train=False, batch_size=64)\n"
      ],
      "metadata": {
        "colab": {
          "base_uri": "https://localhost:8080/",
          "height": 156,
          "referenced_widgets": [
            "da4fa69d078545ae93573538076bd25d",
            "813902bba26d431dbbbc74a359eecbe2",
            "80f88a52c06647de9b34383f3d13ef5b",
            "108aa4a8216040d896837ea1e95e2f44",
            "c5efe408b3524f35b237c6825679234d",
            "aeabaa4be46046ef9aa72d634441a828",
            "1c9598f6eec54a83a378133f3dd31f59",
            "4cc15e6551234809bba330b59d43eb4e",
            "8f983f9ad279478ca8831c37e2fb3b8f",
            "006342f7a7f948c1b34d170f5d16af63",
            "5356dc4d29a64104a5ca0a3968765512"
          ]
        },
        "id": "FGhydIpadg3s",
        "outputId": "54151278-e138-4954-9fb8-22e5bacf817f"
      },
      "execution_count": 5,
      "outputs": [
        {
          "output_type": "stream",
          "name": "stdout",
          "text": [
            "Downloading https://www.cs.toronto.edu/~kriz/cifar-10-python.tar.gz to ./data/cifar-10-python.tar.gz\n"
          ]
        },
        {
          "output_type": "display_data",
          "data": {
            "text/plain": [
              "  0%|          | 0/170498071 [00:00<?, ?it/s]"
            ],
            "application/vnd.jupyter.widget-view+json": {
              "version_major": 2,
              "version_minor": 0,
              "model_id": "da4fa69d078545ae93573538076bd25d"
            }
          },
          "metadata": {}
        },
        {
          "output_type": "stream",
          "name": "stdout",
          "text": [
            "Extracting ./data/cifar-10-python.tar.gz to ./data\n"
          ]
        },
        {
          "output_type": "stream",
          "name": "stderr",
          "text": [
            "/usr/local/lib/python3.8/dist-packages/torch/utils/data/dataloader.py:554: UserWarning: This DataLoader will create 4 worker processes in total. Our suggested max number of worker in current system is 2, which is smaller than what this DataLoader is going to create. Please be aware that excessive worker creation might get DataLoader running slow or even freeze, lower the worker number to avoid potential slowness/freeze if necessary.\n",
            "  warnings.warn(_create_warning_msg(\n"
          ]
        },
        {
          "output_type": "stream",
          "name": "stdout",
          "text": [
            "Files already downloaded and verified\n"
          ]
        }
      ]
    },
    {
      "cell_type": "markdown",
      "source": [
        "## get dataloader attribute from my_cifar10 custom module"
      ],
      "metadata": {
        "id": "gSONNutYqk8R"
      }
    },
    {
      "cell_type": "code",
      "source": [
        "train_dataloader = my_cifar10_train.dataloader\n",
        "test_dataloader = my_cifar10_test.dataloader"
      ],
      "metadata": {
        "id": "FZg0LiA_dlCv"
      },
      "execution_count": 6,
      "outputs": []
    },
    {
      "cell_type": "markdown",
      "source": [],
      "metadata": {
        "id": "Y468FjsOqw7E"
      }
    },
    {
      "cell_type": "markdown",
      "source": [
        "## Get dataset attributes"
      ],
      "metadata": {
        "id": "YtMdfDLirJRe"
      }
    },
    {
      "cell_type": "code",
      "source": [
        "data = [img for img,label in my_cifar10_train]\n",
        "data = torch.stack(data)\n",
        "\n",
        "#data = data.view(data.size(0), data.size(1), -1)\n",
        "\n",
        "print('[Train]')\n",
        "print(' - Tensor Shape:', data.size())\n",
        "print(' - min:', torch.min(data))\n",
        "print(' - max:', torch.max(data))\n",
        "print(' - mean_channel:', [torch.mean(data[:,0,:,:]), torch.mean(data[:,1,:,:]), torch.mean(data[:,2,:,:])])\n",
        "print(' - std_channel:', [torch.std(data[:,0,:,:]), torch.std(data[:,1,:,:]), torch.std(data[:,2,:,:])])\n",
        "print(' - mean:', torch.mean(data))\n",
        "print(' - std:', torch.std(data))\n",
        "print(' - var:', torch.var(data))"
      ],
      "metadata": {
        "colab": {
          "base_uri": "https://localhost:8080/"
        },
        "id": "Gh9nhW5feRaf",
        "outputId": "922625c5-1cf6-40f3-c914-978629cef499"
      },
      "execution_count": 7,
      "outputs": [
        {
          "output_type": "stream",
          "name": "stdout",
          "text": [
            "[Train]\n",
            " - Tensor Shape: torch.Size([50000, 3, 32, 32])\n",
            " - min: tensor(-2.0032)\n",
            " - max: tensor(2.1198)\n",
            " - mean_channel: [tensor(-0.0308), tensor(-0.0215), tensor(0.0052)]\n",
            " - std_channel: [tensor(0.9404), tensor(0.9480), tensor(0.9277)]\n",
            " - mean: tensor(-0.0157)\n",
            " - std: tensor(0.9388)\n",
            " - var: tensor(0.8814)\n"
          ]
        }
      ]
    },
    {
      "cell_type": "markdown",
      "source": [
        "## Dataset visualization"
      ],
      "metadata": {
        "id": "otozedBCrVTI"
      }
    },
    {
      "cell_type": "code",
      "source": [
        "import matplotlib.pyplot as plt\n",
        "import numpy as np\n",
        "import torchvision \n",
        "\n",
        "# functions to show an image\n",
        "cifar_dataset=train_dataloader\n",
        "classes= ['plane', 'car', 'bird', 'cat', 'deer', 'dog', 'frog', 'horse', 'ship', 'truck']\n",
        "fig, ax = plt.subplots(figsize=(12, 12))\n",
        "\n",
        "def imshow(img):\n",
        "    img = img / 2 + 0.5     # unnormalize\n",
        "    npimg = img.numpy()\n",
        "    plt.imshow(np.transpose(npimg, (1, 2, 0)))\n",
        "\n",
        "\n",
        "# get some random training images\n",
        "dataiter = iter(cifar_dataset)\n",
        "images, labels = next(dataiter)\n",
        "\n",
        "# show images\n",
        "imshow(torchvision.utils.make_grid(images[:16]))"
      ],
      "metadata": {
        "colab": {
          "base_uri": "https://localhost:8080/",
          "height": 239
        },
        "id": "yMLNX5kMeS3y",
        "outputId": "fafb489f-d805-45a1-8e1f-a6a148e15771"
      },
      "execution_count": 8,
      "outputs": [
        {
          "output_type": "stream",
          "name": "stderr",
          "text": [
            "WARNING:matplotlib.image:Clipping input data to the valid range for imshow with RGB data ([0..1] for floats or [0..255] for integers).\n"
          ]
        },
        {
          "output_type": "display_data",
          "data": {
            "text/plain": [
              "<Figure size 864x864 with 1 Axes>"
            ],
            "image/png": "[encoded data removed]"
          },
          "metadata": {
            "needs_background": "light"
          }
        }
      ]
    },
    {
      "cell_type": "markdown",
      "source": [
        "## Model visualization\n",
        "Here we are using two different models.\n",
        "my"
      ],
      "metadata": {
        "id": "sYwLJhRlrgdJ"
      }
    },
    {
      "cell_type": "code",
      "source": [
        "from components.model import Netv1, Netv2 #, Net_squeeze_expand\n",
        "#from components.model2 import Net_squeeze_expand\n",
        "!pip install torchsummary\n",
        "from torchsummary import summary\n",
        "\n",
        "use_cuda = torch.cuda.is_available()\n",
        "device = torch.device(\"cuda\" if use_cuda else \"cpu\")\n",
        "print(device)\n",
        "\n",
        "my_model1 = Netv1(in_channel=3, norm_type=\"batch\", drop_out=0.01).to(device)\n",
        "my_model2 = Netv2(in_channel=3, norm_type=\"batch\", drop_out=0.01).to(device)"
      ],
      "metadata": {
        "colab": {
          "base_uri": "https://localhost:8080/"
        },
        "id": "c4nZuiAYd3P4",
        "outputId": "921f465e-142e-496a-a40d-f147dd3a4a8f"
      },
      "execution_count": 9,
      "outputs": [
        {
          "output_type": "stream",
          "name": "stdout",
          "text": [
            "Looking in indexes: https://pypi.org/simple, https://us-python.pkg.dev/colab-wheels/public/simple/\n",
            "Requirement already satisfied: torchsummary in /usr/local/lib/python3.8/dist-packages (1.5.1)\n",
            "cuda\n"
          ]
        }
      ]
    },
    {
      "cell_type": "code",
      "source": [
        "#print model summary for all 3 models\n",
        "\n",
        "print(\"-----------------------------------model arcitecture with 3x3 stride 2 pooling------------------------\")\n",
        "summary(my_model1, input_size=(3,32, 32))\n",
        "\n",
        "print(\"-----------------------------------model arcitecture with dilated conv pooling------------------------\")\n",
        "summary(my_model2, input_size=(3,32, 32))"
      ],
      "metadata": {
        "colab": {
          "base_uri": "https://localhost:8080/"
        },
        "id": "7J6XFrAAd9vX",
        "outputId": "9543b8a6-47ca-498d-b497-45e20e65a98a"
      },
      "execution_count": 10,
      "outputs": [
        {
          "output_type": "stream",
          "name": "stdout",
          "text": [
            "-----------------------------------model arcitecture with 3x3 stride 2 pooling------------------------\n",
            "----------------------------------------------------------------\n",
            "        Layer (type)               Output Shape         Param #\n",
            "================================================================\n",
            "            Conv2d-1           [-1, 16, 32, 32]             432\n",
            "       BatchNorm2d-2           [-1, 16, 32, 32]              32\n",
            "              ReLU-3           [-1, 16, 32, 32]               0\n",
            "           Dropout-4           [-1, 16, 32, 32]               0\n",
            "            Conv2d-5           [-1, 32, 30, 30]           4,608\n",
            "       BatchNorm2d-6           [-1, 32, 30, 30]              64\n",
            "              ReLU-7           [-1, 32, 30, 30]               0\n",
            "           Dropout-8           [-1, 32, 30, 30]               0\n",
            "            Conv2d-9           [-1, 32, 30, 30]             288\n",
            "           Conv2d-10           [-1, 32, 30, 30]           1,024\n",
            "DepthwiseSeparable-11           [-1, 32, 30, 30]               0\n",
            "      BatchNorm2d-12           [-1, 32, 30, 30]              64\n",
            "             ReLU-13           [-1, 32, 30, 30]               0\n",
            "          Dropout-14           [-1, 32, 30, 30]               0\n",
            "           Conv2d-15           [-1, 32, 15, 15]           9,216\n",
            "      BatchNorm2d-16           [-1, 32, 15, 15]              64\n",
            "             ReLU-17           [-1, 32, 15, 15]               0\n",
            "          Dropout-18           [-1, 32, 15, 15]               0\n",
            "           Conv2d-19           [-1, 32, 15, 15]           9,216\n",
            "      BatchNorm2d-20           [-1, 32, 15, 15]              64\n",
            "             ReLU-21           [-1, 32, 15, 15]               0\n",
            "          Dropout-22           [-1, 32, 15, 15]               0\n",
            "           Conv2d-23           [-1, 64, 13, 13]          18,432\n",
            "      BatchNorm2d-24           [-1, 64, 13, 13]             128\n",
            "             ReLU-25           [-1, 64, 13, 13]               0\n",
            "          Dropout-26           [-1, 64, 13, 13]               0\n",
            "           Conv2d-27           [-1, 64, 13, 13]             576\n",
            "           Conv2d-28           [-1, 64, 13, 13]           4,096\n",
            "DepthwiseSeparable-29           [-1, 64, 13, 13]               0\n",
            "      BatchNorm2d-30           [-1, 64, 13, 13]             128\n",
            "             ReLU-31           [-1, 64, 13, 13]               0\n",
            "          Dropout-32           [-1, 64, 13, 13]               0\n",
            "           Conv2d-33             [-1, 64, 7, 7]          36,864\n",
            "      BatchNorm2d-34             [-1, 64, 7, 7]             128\n",
            "             ReLU-35             [-1, 64, 7, 7]               0\n",
            "          Dropout-36             [-1, 64, 7, 7]               0\n",
            "           Conv2d-37             [-1, 64, 7, 7]          36,864\n",
            "      BatchNorm2d-38             [-1, 64, 7, 7]             128\n",
            "             ReLU-39             [-1, 64, 7, 7]               0\n",
            "          Dropout-40             [-1, 64, 7, 7]               0\n",
            "           Conv2d-41             [-1, 64, 5, 5]          36,864\n",
            "      BatchNorm2d-42             [-1, 64, 5, 5]             128\n",
            "             ReLU-43             [-1, 64, 5, 5]               0\n",
            "          Dropout-44             [-1, 64, 5, 5]               0\n",
            "           Conv2d-45             [-1, 64, 5, 5]             576\n",
            "           Conv2d-46             [-1, 64, 5, 5]           4,096\n",
            "DepthwiseSeparable-47             [-1, 64, 5, 5]               0\n",
            "      BatchNorm2d-48             [-1, 64, 5, 5]             128\n",
            "             ReLU-49             [-1, 64, 5, 5]               0\n",
            "          Dropout-50             [-1, 64, 5, 5]               0\n",
            "           Conv2d-51             [-1, 32, 7, 7]           2,048\n",
            "      BatchNorm2d-52             [-1, 32, 7, 7]              64\n",
            "             ReLU-53             [-1, 32, 7, 7]               0\n",
            "          Dropout-54             [-1, 32, 7, 7]               0\n",
            "           Conv2d-55             [-1, 32, 5, 5]           9,216\n",
            "      BatchNorm2d-56             [-1, 32, 5, 5]              64\n",
            "             ReLU-57             [-1, 32, 5, 5]               0\n",
            "          Dropout-58             [-1, 32, 5, 5]               0\n",
            "           Conv2d-59             [-1, 32, 5, 5]             288\n",
            "           Conv2d-60             [-1, 32, 5, 5]           1,024\n",
            "DepthwiseSeparable-61             [-1, 32, 5, 5]               0\n",
            "      BatchNorm2d-62             [-1, 32, 5, 5]              64\n",
            "             ReLU-63             [-1, 32, 5, 5]               0\n",
            "          Dropout-64             [-1, 32, 5, 5]               0\n",
            "           Conv2d-65             [-1, 10, 5, 5]             320\n",
            "        AvgPool2d-66             [-1, 10, 1, 1]               0\n",
            "================================================================\n",
            "Total params: 177,296\n",
            "Trainable params: 177,296\n",
            "Non-trainable params: 0\n",
            "----------------------------------------------------------------\n",
            "Input size (MB): 0.01\n",
            "Forward/backward pass size (MB): 4.39\n",
            "Params size (MB): 0.68\n",
            "Estimated Total Size (MB): 5.07\n",
            "----------------------------------------------------------------\n",
            "-----------------------------------model arcitecture with dilated conv pooling------------------------\n",
            "----------------------------------------------------------------\n",
            "        Layer (type)               Output Shape         Param #\n",
            "================================================================\n",
            "            Conv2d-1           [-1, 16, 32, 32]             432\n",
            "       BatchNorm2d-2           [-1, 16, 32, 32]              32\n",
            "              ReLU-3           [-1, 16, 32, 32]               0\n",
            "           Dropout-4           [-1, 16, 32, 32]               0\n",
            "            Conv2d-5           [-1, 32, 30, 30]           4,608\n",
            "       BatchNorm2d-6           [-1, 32, 30, 30]              64\n",
            "              ReLU-7           [-1, 32, 30, 30]               0\n",
            "           Dropout-8           [-1, 32, 30, 30]               0\n",
            "            Conv2d-9           [-1, 32, 30, 30]             288\n",
            "           Conv2d-10           [-1, 32, 30, 30]           1,024\n",
            "DepthwiseSeparable-11           [-1, 32, 30, 30]               0\n",
            "      BatchNorm2d-12           [-1, 32, 30, 30]              64\n",
            "             ReLU-13           [-1, 32, 30, 30]               0\n",
            "          Dropout-14           [-1, 32, 30, 30]               0\n",
            "           Conv2d-15           [-1, 32, 30, 30]           1,024\n",
            "      BatchNorm2d-16           [-1, 32, 30, 30]              64\n",
            "             ReLU-17           [-1, 32, 30, 30]               0\n",
            "          Dropout-18           [-1, 32, 30, 30]               0\n",
            "           Conv2d-19           [-1, 32, 24, 24]          25,600\n",
            "      BatchNorm2d-20           [-1, 32, 24, 24]              64\n",
            "             ReLU-21           [-1, 32, 24, 24]               0\n",
            "          Dropout-22           [-1, 32, 24, 24]               0\n",
            "           Conv2d-23           [-1, 32, 24, 24]           9,216\n",
            "      BatchNorm2d-24           [-1, 32, 24, 24]              64\n",
            "             ReLU-25           [-1, 32, 24, 24]               0\n",
            "          Dropout-26           [-1, 32, 24, 24]               0\n",
            "           Conv2d-27           [-1, 64, 22, 22]          18,432\n",
            "      BatchNorm2d-28           [-1, 64, 22, 22]             128\n",
            "             ReLU-29           [-1, 64, 22, 22]               0\n",
            "          Dropout-30           [-1, 64, 22, 22]               0\n",
            "           Conv2d-31           [-1, 64, 22, 22]             576\n",
            "           Conv2d-32           [-1, 64, 22, 22]           4,096\n",
            "DepthwiseSeparable-33           [-1, 64, 22, 22]               0\n",
            "      BatchNorm2d-34           [-1, 64, 22, 22]             128\n",
            "             ReLU-35           [-1, 64, 22, 22]               0\n",
            "          Dropout-36           [-1, 64, 22, 22]               0\n",
            "           Conv2d-37           [-1, 32, 22, 22]           2,048\n",
            "      BatchNorm2d-38           [-1, 32, 22, 22]              64\n",
            "             ReLU-39           [-1, 32, 22, 22]               0\n",
            "          Dropout-40           [-1, 32, 22, 22]               0\n",
            "           Conv2d-41           [-1, 32, 14, 14]          25,600\n",
            "      BatchNorm2d-42           [-1, 32, 14, 14]              64\n",
            "             ReLU-43           [-1, 32, 14, 14]               0\n",
            "          Dropout-44           [-1, 32, 14, 14]               0\n",
            "           Conv2d-45           [-1, 64, 14, 14]          18,432\n",
            "      BatchNorm2d-46           [-1, 64, 14, 14]             128\n",
            "             ReLU-47           [-1, 64, 14, 14]               0\n",
            "          Dropout-48           [-1, 64, 14, 14]               0\n",
            "           Conv2d-49           [-1, 64, 12, 12]          36,864\n",
            "      BatchNorm2d-50           [-1, 64, 12, 12]             128\n",
            "             ReLU-51           [-1, 64, 12, 12]               0\n",
            "          Dropout-52           [-1, 64, 12, 12]               0\n",
            "           Conv2d-53           [-1, 64, 12, 12]             576\n",
            "           Conv2d-54           [-1, 64, 12, 12]           4,096\n",
            "DepthwiseSeparable-55           [-1, 64, 12, 12]               0\n",
            "      BatchNorm2d-56           [-1, 64, 12, 12]             128\n",
            "             ReLU-57           [-1, 64, 12, 12]               0\n",
            "          Dropout-58           [-1, 64, 12, 12]               0\n",
            "           Conv2d-59           [-1, 32, 12, 12]           2,048\n",
            "      BatchNorm2d-60           [-1, 32, 12, 12]              64\n",
            "             ReLU-61           [-1, 32, 12, 12]               0\n",
            "          Dropout-62           [-1, 32, 12, 12]               0\n",
            "           Conv2d-63             [-1, 32, 6, 6]          25,600\n",
            "      BatchNorm2d-64             [-1, 32, 6, 6]              64\n",
            "             ReLU-65             [-1, 32, 6, 6]               0\n",
            "          Dropout-66             [-1, 32, 6, 6]               0\n",
            "           Conv2d-67             [-1, 32, 4, 4]           9,216\n",
            "      BatchNorm2d-68             [-1, 32, 4, 4]              64\n",
            "             ReLU-69             [-1, 32, 4, 4]               0\n",
            "          Dropout-70             [-1, 32, 4, 4]               0\n",
            "           Conv2d-71             [-1, 32, 4, 4]             288\n",
            "           Conv2d-72             [-1, 32, 4, 4]           1,024\n",
            "DepthwiseSeparable-73             [-1, 32, 4, 4]               0\n",
            "      BatchNorm2d-74             [-1, 32, 4, 4]              64\n",
            "             ReLU-75             [-1, 32, 4, 4]               0\n",
            "          Dropout-76             [-1, 32, 4, 4]               0\n",
            "           Conv2d-77             [-1, 10, 4, 4]             320\n",
            "        AvgPool2d-78             [-1, 10, 1, 1]               0\n",
            "================================================================\n",
            "Total params: 192,784\n",
            "Trainable params: 192,784\n",
            "Non-trainable params: 0\n",
            "----------------------------------------------------------------\n",
            "Input size (MB): 0.01\n",
            "Forward/backward pass size (MB): 9.03\n",
            "Params size (MB): 0.74\n",
            "Estimated Total Size (MB): 9.78\n",
            "----------------------------------------------------------------\n"
          ]
        }
      ]
    },
    {
      "cell_type": "code",
      "source": [
        "# import our custom classes for training and testing model\n",
        "\n",
        "from components.training import TrainModel\n",
        "from components.test import TestModel\n",
        "from torch.optim.lr_scheduler import StepLR \n",
        "\n",
        "EPOCHS = 80"
      ],
      "metadata": {
        "id": "uRWveD0LeCfO"
      },
      "execution_count": 11,
      "outputs": []
    },
    {
      "cell_type": "code",
      "source": [
        "# Training model with batch normalization and L1 regularization\n",
        "my_model1 = Netv1(in_channel=3, norm_type=\"batch\", drop_out=0.01).to(device)\n",
        "optimizer1 = optim.SGD(my_model1.parameters(), lr=0.01, momentum=0.9)\n",
        "scheduler1 = StepLR(optimizer1, step_size=20, gamma=0.1) \n",
        "\n",
        "train_module1 = TrainModel(my_model1, device, train_dataloader, optimizer1)\n",
        "test_module1 = TestModel(my_model1, device, test_dataloader)\n",
        "\n",
        "\n",
        "my_model2 = Netv2(in_channel=3, norm_type=\"batch\", drop_out=0.01).to(device)\n",
        "optimizer2 = optim.SGD(my_model2.parameters(), lr=0.01, momentum=0.9)\n",
        "scheduler2 = StepLR(optimizer2, step_size=20, gamma=0.1) \n",
        "\n",
        "train_module2 = TrainModel(my_model2, device, train_dataloader, optimizer2)\n",
        "test_module2 = TestModel(my_model2, device, test_dataloader)"
      ],
      "metadata": {
        "id": "wa7h1Z04eeSe"
      },
      "execution_count": 12,
      "outputs": []
    },
    {
      "cell_type": "code",
      "source": [
        "# Training model with Group normalization\n",
        "\n",
        "for epoch in range(EPOCHS):\n",
        "    print(\"EPOCH:\", epoch)\n",
        "    \n",
        "    train_module1.train_a(L1_reg=False, l1_lambda=0.0001) # batch norm model with L1 regularization.\n",
        "    test_module1.test()\n",
        "    scheduler1.step()\n",
        "    \n",
        "    train_module2.train_a(L1_reg=False, l1_lambda=0.0001) # batch norm model with L1 regularization.\n",
        "    test_module2.test()\n",
        "    scheduler2.step()"
      ],
      "metadata": {
        "colab": {
          "base_uri": "https://localhost:8080/"
        },
        "id": "3Bkt0wEYehx4",
        "outputId": "81e8bef2-40b0-4ff1-ff1e-bec626439d6a"
      },
      "execution_count": 13,
      "outputs": [
        {
          "output_type": "stream",
          "name": "stdout",
          "text": [
            "EPOCH: 0\n"
          ]
        },
        {
          "output_type": "stream",
          "name": "stderr",
          "text": [
            "Loss=1.5897586345672607 Batch_id=390 Accuracy=33.50: 100%|██████████| 391/391 [00:19<00:00, 20.28it/s]\n"
          ]
        },
        {
          "output_type": "stream",
          "name": "stdout",
          "text": [
            "\n",
            "Test set: Average loss: 1.4460, Accuracy: 4846/10000 (48.46%)\n",
            "\n"
          ]
        },
        {
          "output_type": "stream",
          "name": "stderr",
          "text": [
            "Loss=1.5536292791366577 Batch_id=390 Accuracy=28.27: 100%|██████████| 391/391 [00:22<00:00, 17.09it/s]\n"
          ]
        },
        {
          "output_type": "stream",
          "name": "stdout",
          "text": [
            "\n",
            "Test set: Average loss: 1.5133, Accuracy: 4312/10000 (43.12%)\n",
            "\n",
            "EPOCH: 1\n"
          ]
        },
        {
          "output_type": "stream",
          "name": "stderr",
          "text": [
            "Loss=1.3457367420196533 Batch_id=390 Accuracy=49.45: 100%|██████████| 391/391 [00:18<00:00, 20.65it/s]\n"
          ]
        },
        {
          "output_type": "stream",
          "name": "stdout",
          "text": [
            "\n",
            "Test set: Average loss: 1.1710, Accuracy: 5835/10000 (58.35%)\n",
            "\n"
          ]
        },
        {
          "output_type": "stream",
          "name": "stderr",
          "text": [
            "Loss=1.4595191478729248 Batch_id=390 Accuracy=42.46: 100%|██████████| 391/391 [00:21<00:00, 18.53it/s]\n"
          ]
        },
        {
          "output_type": "stream",
          "name": "stdout",
          "text": [
            "\n",
            "Test set: Average loss: 1.3640, Accuracy: 5137/10000 (51.37%)\n",
            "\n",
            "EPOCH: 2\n"
          ]
        },
        {
          "output_type": "stream",
          "name": "stderr",
          "text": [
            "Loss=1.2452489137649536 Batch_id=390 Accuracy=56.59: 100%|██████████| 391/391 [00:18<00:00, 20.96it/s]\n"
          ]
        },
        {
          "output_type": "stream",
          "name": "stdout",
          "text": [
            "\n",
            "Test set: Average loss: 0.9295, Accuracy: 6715/10000 (67.15%)\n",
            "\n"
          ]
        },
        {
          "output_type": "stream",
          "name": "stderr",
          "text": [
            "Loss=1.2049853801727295 Batch_id=390 Accuracy=49.09: 100%|██████████| 391/391 [00:21<00:00, 18.29it/s]\n"
          ]
        },
        {
          "output_type": "stream",
          "name": "stdout",
          "text": [
            "\n",
            "Test set: Average loss: 1.1793, Accuracy: 5748/10000 (57.48%)\n",
            "\n",
            "EPOCH: 3\n"
          ]
        },
        {
          "output_type": "stream",
          "name": "stderr",
          "text": [
            "Loss=1.079801321029663 Batch_id=390 Accuracy=60.92: 100%|██████████| 391/391 [00:19<00:00, 20.46it/s]\n"
          ]
        },
        {
          "output_type": "stream",
          "name": "stdout",
          "text": [
            "\n",
            "Test set: Average loss: 0.9955, Accuracy: 6640/10000 (66.40%)\n",
            "\n"
          ]
        },
        {
          "output_type": "stream",
          "name": "stderr",
          "text": [
            "Loss=1.2810429334640503 Batch_id=390 Accuracy=53.92: 100%|██████████| 391/391 [00:21<00:00, 18.48it/s]\n"
          ]
        },
        {
          "output_type": "stream",
          "name": "stdout",
          "text": [
            "\n",
            "Test set: Average loss: 1.1178, Accuracy: 6099/10000 (60.99%)\n",
            "\n",
            "EPOCH: 4\n"
          ]
        },
        {
          "output_type": "stream",
          "name": "stderr",
          "text": [
            "Loss=1.0241787433624268 Batch_id=390 Accuracy=63.93: 100%|██████████| 391/391 [00:18<00:00, 20.73it/s]\n"
          ]
        },
        {
          "output_type": "stream",
          "name": "stdout",
          "text": [
            "\n",
            "Test set: Average loss: 0.8034, Accuracy: 7227/10000 (72.27%)\n",
            "\n"
          ]
        },
        {
          "output_type": "stream",
          "name": "stderr",
          "text": [
            "Loss=0.963010311126709 Batch_id=390 Accuracy=57.23: 100%|██████████| 391/391 [00:20<00:00, 18.68it/s]\n"
          ]
        },
        {
          "output_type": "stream",
          "name": "stdout",
          "text": [
            "\n",
            "Test set: Average loss: 1.1304, Accuracy: 6073/10000 (60.73%)\n",
            "\n",
            "EPOCH: 5\n"
          ]
        },
        {
          "output_type": "stream",
          "name": "stderr",
          "text": [
            "Loss=0.6936078667640686 Batch_id=390 Accuracy=65.97: 100%|██████████| 391/391 [00:18<00:00, 21.27it/s]\n"
          ]
        },
        {
          "output_type": "stream",
          "name": "stdout",
          "text": [
            "\n",
            "Test set: Average loss: 0.7713, Accuracy: 7352/10000 (73.52%)\n",
            "\n"
          ]
        },
        {
          "output_type": "stream",
          "name": "stderr",
          "text": [
            "Loss=1.1213043928146362 Batch_id=390 Accuracy=59.95: 100%|██████████| 391/391 [00:22<00:00, 17.16it/s]\n"
          ]
        },
        {
          "output_type": "stream",
          "name": "stdout",
          "text": [
            "\n",
            "Test set: Average loss: 0.9210, Accuracy: 6697/10000 (66.97%)\n",
            "\n",
            "EPOCH: 6\n"
          ]
        },
        {
          "output_type": "stream",
          "name": "stderr",
          "text": [
            "Loss=0.9623137712478638 Batch_id=390 Accuracy=67.24: 100%|██████████| 391/391 [00:18<00:00, 21.00it/s]\n"
          ]
        },
        {
          "output_type": "stream",
          "name": "stdout",
          "text": [
            "\n",
            "Test set: Average loss: 0.6964, Accuracy: 7594/10000 (75.94%)\n",
            "\n"
          ]
        },
        {
          "output_type": "stream",
          "name": "stderr",
          "text": [
            "Loss=1.270289659500122 Batch_id=390 Accuracy=62.01: 100%|██████████| 391/391 [00:21<00:00, 18.58it/s]\n"
          ]
        },
        {
          "output_type": "stream",
          "name": "stdout",
          "text": [
            "\n",
            "Test set: Average loss: 0.8800, Accuracy: 6983/10000 (69.83%)\n",
            "\n",
            "EPOCH: 7\n"
          ]
        },
        {
          "output_type": "stream",
          "name": "stderr",
          "text": [
            "Loss=0.7101457715034485 Batch_id=390 Accuracy=68.84: 100%|██████████| 391/391 [00:18<00:00, 21.34it/s]\n"
          ]
        },
        {
          "output_type": "stream",
          "name": "stdout",
          "text": [
            "\n",
            "Test set: Average loss: 0.6646, Accuracy: 7692/10000 (76.92%)\n",
            "\n"
          ]
        },
        {
          "output_type": "stream",
          "name": "stderr",
          "text": [
            "Loss=1.0359039306640625 Batch_id=390 Accuracy=63.53: 100%|██████████| 391/391 [00:20<00:00, 18.94it/s]\n"
          ]
        },
        {
          "output_type": "stream",
          "name": "stdout",
          "text": [
            "\n",
            "Test set: Average loss: 0.8825, Accuracy: 6940/10000 (69.40%)\n",
            "\n",
            "EPOCH: 8\n"
          ]
        },
        {
          "output_type": "stream",
          "name": "stderr",
          "text": [
            "Loss=0.8900694847106934 Batch_id=390 Accuracy=70.01: 100%|██████████| 391/391 [00:18<00:00, 21.42it/s]\n"
          ]
        },
        {
          "output_type": "stream",
          "name": "stdout",
          "text": [
            "\n",
            "Test set: Average loss: 0.6758, Accuracy: 7702/10000 (77.02%)\n",
            "\n"
          ]
        },
        {
          "output_type": "stream",
          "name": "stderr",
          "text": [
            "Loss=0.8854028582572937 Batch_id=390 Accuracy=64.98: 100%|██████████| 391/391 [00:20<00:00, 18.89it/s]\n"
          ]
        },
        {
          "output_type": "stream",
          "name": "stdout",
          "text": [
            "\n",
            "Test set: Average loss: 0.8629, Accuracy: 7061/10000 (70.61%)\n",
            "\n",
            "EPOCH: 9\n"
          ]
        },
        {
          "output_type": "stream",
          "name": "stderr",
          "text": [
            "Loss=1.1020764112472534 Batch_id=390 Accuracy=70.76: 100%|██████████| 391/391 [00:18<00:00, 21.57it/s]\n"
          ]
        },
        {
          "output_type": "stream",
          "name": "stdout",
          "text": [
            "\n",
            "Test set: Average loss: 0.6653, Accuracy: 7751/10000 (77.51%)\n",
            "\n"
          ]
        },
        {
          "output_type": "stream",
          "name": "stderr",
          "text": [
            "Loss=0.7962124347686768 Batch_id=390 Accuracy=66.29: 100%|██████████| 391/391 [00:20<00:00, 18.79it/s]\n"
          ]
        },
        {
          "output_type": "stream",
          "name": "stdout",
          "text": [
            "\n",
            "Test set: Average loss: 0.8338, Accuracy: 7132/10000 (71.32%)\n",
            "\n",
            "EPOCH: 10\n"
          ]
        },
        {
          "output_type": "stream",
          "name": "stderr",
          "text": [
            "Loss=0.7494572401046753 Batch_id=390 Accuracy=71.69: 100%|██████████| 391/391 [00:18<00:00, 21.34it/s]\n"
          ]
        },
        {
          "output_type": "stream",
          "name": "stdout",
          "text": [
            "\n",
            "Test set: Average loss: 0.6252, Accuracy: 7854/10000 (78.54%)\n",
            "\n"
          ]
        },
        {
          "output_type": "stream",
          "name": "stderr",
          "text": [
            "Loss=0.9078505635261536 Batch_id=390 Accuracy=67.06: 100%|██████████| 391/391 [00:22<00:00, 17.42it/s]\n"
          ]
        },
        {
          "output_type": "stream",
          "name": "stdout",
          "text": [
            "\n",
            "Test set: Average loss: 0.7588, Accuracy: 7355/10000 (73.55%)\n",
            "\n",
            "EPOCH: 11\n"
          ]
        },
        {
          "output_type": "stream",
          "name": "stderr",
          "text": [
            "Loss=0.7084083557128906 Batch_id=390 Accuracy=72.62: 100%|██████████| 391/391 [00:18<00:00, 20.93it/s]\n"
          ]
        },
        {
          "output_type": "stream",
          "name": "stdout",
          "text": [
            "\n",
            "Test set: Average loss: 0.6006, Accuracy: 7923/10000 (79.23%)\n",
            "\n"
          ]
        },
        {
          "output_type": "stream",
          "name": "stderr",
          "text": [
            "Loss=0.7138347625732422 Batch_id=390 Accuracy=67.71: 100%|██████████| 391/391 [00:20<00:00, 18.67it/s]\n"
          ]
        },
        {
          "output_type": "stream",
          "name": "stdout",
          "text": [
            "\n",
            "Test set: Average loss: 0.7199, Accuracy: 7555/10000 (75.55%)\n",
            "\n",
            "EPOCH: 12\n"
          ]
        },
        {
          "output_type": "stream",
          "name": "stderr",
          "text": [
            "Loss=0.6760907173156738 Batch_id=390 Accuracy=73.17: 100%|██████████| 391/391 [00:18<00:00, 21.09it/s]\n"
          ]
        },
        {
          "output_type": "stream",
          "name": "stdout",
          "text": [
            "\n",
            "Test set: Average loss: 0.6158, Accuracy: 7942/10000 (79.42%)\n",
            "\n"
          ]
        },
        {
          "output_type": "stream",
          "name": "stderr",
          "text": [
            "Loss=0.7060312628746033 Batch_id=390 Accuracy=68.79: 100%|██████████| 391/391 [00:20<00:00, 18.71it/s]\n"
          ]
        },
        {
          "output_type": "stream",
          "name": "stdout",
          "text": [
            "\n",
            "Test set: Average loss: 0.7932, Accuracy: 7301/10000 (73.01%)\n",
            "\n",
            "EPOCH: 13\n"
          ]
        },
        {
          "output_type": "stream",
          "name": "stderr",
          "text": [
            "Loss=0.6669073700904846 Batch_id=390 Accuracy=73.66: 100%|██████████| 391/391 [00:18<00:00, 21.34it/s]\n"
          ]
        },
        {
          "output_type": "stream",
          "name": "stdout",
          "text": [
            "\n",
            "Test set: Average loss: 0.6115, Accuracy: 7898/10000 (78.98%)\n",
            "\n"
          ]
        },
        {
          "output_type": "stream",
          "name": "stderr",
          "text": [
            "Loss=0.9281758069992065 Batch_id=390 Accuracy=69.44: 100%|██████████| 391/391 [00:21<00:00, 18.58it/s]\n"
          ]
        },
        {
          "output_type": "stream",
          "name": "stdout",
          "text": [
            "\n",
            "Test set: Average loss: 0.7352, Accuracy: 7454/10000 (74.54%)\n",
            "\n",
            "EPOCH: 14\n"
          ]
        },
        {
          "output_type": "stream",
          "name": "stderr",
          "text": [
            "Loss=0.6176833510398865 Batch_id=390 Accuracy=74.51: 100%|██████████| 391/391 [00:18<00:00, 21.05it/s]\n"
          ]
        },
        {
          "output_type": "stream",
          "name": "stdout",
          "text": [
            "\n",
            "Test set: Average loss: 0.6164, Accuracy: 7884/10000 (78.84%)\n",
            "\n"
          ]
        },
        {
          "output_type": "stream",
          "name": "stderr",
          "text": [
            "Loss=0.8812134861946106 Batch_id=390 Accuracy=69.55: 100%|██████████| 391/391 [00:21<00:00, 18.58it/s]\n"
          ]
        },
        {
          "output_type": "stream",
          "name": "stdout",
          "text": [
            "\n",
            "Test set: Average loss: 0.7832, Accuracy: 7355/10000 (73.55%)\n",
            "\n",
            "EPOCH: 15\n"
          ]
        },
        {
          "output_type": "stream",
          "name": "stderr",
          "text": [
            "Loss=0.662346601486206 Batch_id=390 Accuracy=74.90: 100%|██████████| 391/391 [00:18<00:00, 20.93it/s]\n"
          ]
        },
        {
          "output_type": "stream",
          "name": "stdout",
          "text": [
            "\n",
            "Test set: Average loss: 0.5518, Accuracy: 8108/10000 (81.08%)\n",
            "\n"
          ]
        },
        {
          "output_type": "stream",
          "name": "stderr",
          "text": [
            "Loss=0.7785598635673523 Batch_id=390 Accuracy=70.41: 100%|██████████| 391/391 [00:21<00:00, 18.19it/s]\n"
          ]
        },
        {
          "output_type": "stream",
          "name": "stdout",
          "text": [
            "\n",
            "Test set: Average loss: 0.6763, Accuracy: 7664/10000 (76.64%)\n",
            "\n",
            "EPOCH: 16\n"
          ]
        },
        {
          "output_type": "stream",
          "name": "stderr",
          "text": [
            "Loss=0.5863109230995178 Batch_id=390 Accuracy=75.05: 100%|██████████| 391/391 [00:18<00:00, 20.77it/s]\n"
          ]
        },
        {
          "output_type": "stream",
          "name": "stdout",
          "text": [
            "\n",
            "Test set: Average loss: 0.6600, Accuracy: 7765/10000 (77.65%)\n",
            "\n"
          ]
        },
        {
          "output_type": "stream",
          "name": "stderr",
          "text": [
            "Loss=0.836931049823761 Batch_id=390 Accuracy=70.86: 100%|██████████| 391/391 [00:21<00:00, 18.52it/s]\n"
          ]
        },
        {
          "output_type": "stream",
          "name": "stdout",
          "text": [
            "\n",
            "Test set: Average loss: 0.7009, Accuracy: 7610/10000 (76.10%)\n",
            "\n",
            "EPOCH: 17\n"
          ]
        },
        {
          "output_type": "stream",
          "name": "stderr",
          "text": [
            "Loss=0.7417283058166504 Batch_id=390 Accuracy=75.71: 100%|██████████| 391/391 [00:18<00:00, 20.99it/s]\n"
          ]
        },
        {
          "output_type": "stream",
          "name": "stdout",
          "text": [
            "\n",
            "Test set: Average loss: 0.5765, Accuracy: 8066/10000 (80.66%)\n",
            "\n"
          ]
        },
        {
          "output_type": "stream",
          "name": "stderr",
          "text": [
            "Loss=0.7782107591629028 Batch_id=390 Accuracy=71.30: 100%|██████████| 391/391 [00:21<00:00, 18.42it/s]\n"
          ]
        },
        {
          "output_type": "stream",
          "name": "stdout",
          "text": [
            "\n",
            "Test set: Average loss: 0.6508, Accuracy: 7773/10000 (77.73%)\n",
            "\n",
            "EPOCH: 18\n"
          ]
        },
        {
          "output_type": "stream",
          "name": "stderr",
          "text": [
            "Loss=0.7725726366043091 Batch_id=390 Accuracy=75.96: 100%|██████████| 391/391 [00:18<00:00, 20.71it/s]\n"
          ]
        },
        {
          "output_type": "stream",
          "name": "stdout",
          "text": [
            "\n",
            "Test set: Average loss: 0.5563, Accuracy: 8123/10000 (81.23%)\n",
            "\n"
          ]
        },
        {
          "output_type": "stream",
          "name": "stderr",
          "text": [
            "Loss=0.7899360656738281 Batch_id=390 Accuracy=71.97: 100%|██████████| 391/391 [00:21<00:00, 18.58it/s]\n"
          ]
        },
        {
          "output_type": "stream",
          "name": "stdout",
          "text": [
            "\n",
            "Test set: Average loss: 0.6340, Accuracy: 7803/10000 (78.03%)\n",
            "\n",
            "EPOCH: 19\n"
          ]
        },
        {
          "output_type": "stream",
          "name": "stderr",
          "text": [
            "Loss=0.4970149099826813 Batch_id=390 Accuracy=76.50: 100%|██████████| 391/391 [00:18<00:00, 21.10it/s]\n"
          ]
        },
        {
          "output_type": "stream",
          "name": "stdout",
          "text": [
            "\n",
            "Test set: Average loss: 0.5452, Accuracy: 8137/10000 (81.37%)\n",
            "\n"
          ]
        },
        {
          "output_type": "stream",
          "name": "stderr",
          "text": [
            "Loss=0.8120210766792297 Batch_id=390 Accuracy=72.06: 100%|██████████| 391/391 [00:21<00:00, 18.52it/s]\n"
          ]
        },
        {
          "output_type": "stream",
          "name": "stdout",
          "text": [
            "\n",
            "Test set: Average loss: 0.6238, Accuracy: 7841/10000 (78.41%)\n",
            "\n",
            "EPOCH: 20\n"
          ]
        },
        {
          "output_type": "stream",
          "name": "stderr",
          "text": [
            "Loss=0.6105536222457886 Batch_id=390 Accuracy=78.38: 100%|██████████| 391/391 [00:20<00:00, 18.77it/s]\n"
          ]
        },
        {
          "output_type": "stream",
          "name": "stdout",
          "text": [
            "\n",
            "Test set: Average loss: 0.4701, Accuracy: 8387/10000 (83.87%)\n",
            "\n"
          ]
        },
        {
          "output_type": "stream",
          "name": "stderr",
          "text": [
            "Loss=0.8141547441482544 Batch_id=390 Accuracy=74.51: 100%|██████████| 391/391 [00:21<00:00, 18.55it/s]\n"
          ]
        },
        {
          "output_type": "stream",
          "name": "stdout",
          "text": [
            "\n",
            "Test set: Average loss: 0.5488, Accuracy: 8120/10000 (81.20%)\n",
            "\n",
            "EPOCH: 21\n"
          ]
        },
        {
          "output_type": "stream",
          "name": "stderr",
          "text": [
            "Loss=0.5904831290245056 Batch_id=390 Accuracy=79.01: 100%|██████████| 391/391 [00:18<00:00, 20.79it/s]\n"
          ]
        },
        {
          "output_type": "stream",
          "name": "stdout",
          "text": [
            "\n",
            "Test set: Average loss: 0.4665, Accuracy: 8405/10000 (84.05%)\n",
            "\n"
          ]
        },
        {
          "output_type": "stream",
          "name": "stderr",
          "text": [
            "Loss=0.7440459132194519 Batch_id=390 Accuracy=75.11: 100%|██████████| 391/391 [00:21<00:00, 18.37it/s]\n"
          ]
        },
        {
          "output_type": "stream",
          "name": "stdout",
          "text": [
            "\n",
            "Test set: Average loss: 0.5440, Accuracy: 8128/10000 (81.28%)\n",
            "\n",
            "EPOCH: 22\n"
          ]
        },
        {
          "output_type": "stream",
          "name": "stderr",
          "text": [
            "Loss=0.47087007761001587 Batch_id=390 Accuracy=79.47: 100%|██████████| 391/391 [00:18<00:00, 20.61it/s]\n"
          ]
        },
        {
          "output_type": "stream",
          "name": "stdout",
          "text": [
            "\n",
            "Test set: Average loss: 0.4616, Accuracy: 8430/10000 (84.30%)\n",
            "\n"
          ]
        },
        {
          "output_type": "stream",
          "name": "stderr",
          "text": [
            "Loss=0.7048165798187256 Batch_id=390 Accuracy=75.55: 100%|██████████| 391/391 [00:21<00:00, 18.32it/s]\n"
          ]
        },
        {
          "output_type": "stream",
          "name": "stdout",
          "text": [
            "\n",
            "Test set: Average loss: 0.5379, Accuracy: 8147/10000 (81.47%)\n",
            "\n",
            "EPOCH: 23\n"
          ]
        },
        {
          "output_type": "stream",
          "name": "stderr",
          "text": [
            "Loss=0.5814399123191833 Batch_id=390 Accuracy=79.35: 100%|██████████| 391/391 [00:18<00:00, 20.59it/s]\n"
          ]
        },
        {
          "output_type": "stream",
          "name": "stdout",
          "text": [
            "\n",
            "Test set: Average loss: 0.4565, Accuracy: 8457/10000 (84.57%)\n",
            "\n"
          ]
        },
        {
          "output_type": "stream",
          "name": "stderr",
          "text": [
            "Loss=0.8107969164848328 Batch_id=390 Accuracy=75.57: 100%|██████████| 391/391 [00:21<00:00, 18.33it/s]\n"
          ]
        },
        {
          "output_type": "stream",
          "name": "stdout",
          "text": [
            "\n",
            "Test set: Average loss: 0.5379, Accuracy: 8159/10000 (81.59%)\n",
            "\n",
            "EPOCH: 24\n"
          ]
        },
        {
          "output_type": "stream",
          "name": "stderr",
          "text": [
            "Loss=0.9144952893257141 Batch_id=390 Accuracy=79.48: 100%|██████████| 391/391 [00:19<00:00, 20.25it/s]\n"
          ]
        },
        {
          "output_type": "stream",
          "name": "stdout",
          "text": [
            "\n",
            "Test set: Average loss: 0.4536, Accuracy: 8458/10000 (84.58%)\n",
            "\n"
          ]
        },
        {
          "output_type": "stream",
          "name": "stderr",
          "text": [
            "Loss=0.7986227869987488 Batch_id=390 Accuracy=75.61: 100%|██████████| 391/391 [00:23<00:00, 16.85it/s]\n"
          ]
        },
        {
          "output_type": "stream",
          "name": "stdout",
          "text": [
            "\n",
            "Test set: Average loss: 0.5323, Accuracy: 8180/10000 (81.80%)\n",
            "\n",
            "EPOCH: 25\n"
          ]
        },
        {
          "output_type": "stream",
          "name": "stderr",
          "text": [
            "Loss=0.5894042253494263 Batch_id=390 Accuracy=79.54: 100%|██████████| 391/391 [00:19<00:00, 20.41it/s]\n"
          ]
        },
        {
          "output_type": "stream",
          "name": "stdout",
          "text": [
            "\n",
            "Test set: Average loss: 0.4528, Accuracy: 8445/10000 (84.45%)\n",
            "\n"
          ]
        },
        {
          "output_type": "stream",
          "name": "stderr",
          "text": [
            "Loss=0.6461319923400879 Batch_id=390 Accuracy=75.84: 100%|██████████| 391/391 [00:21<00:00, 18.23it/s]\n"
          ]
        },
        {
          "output_type": "stream",
          "name": "stdout",
          "text": [
            "\n",
            "Test set: Average loss: 0.5324, Accuracy: 8177/10000 (81.77%)\n",
            "\n",
            "EPOCH: 26\n"
          ]
        },
        {
          "output_type": "stream",
          "name": "stderr",
          "text": [
            "Loss=0.6239888072013855 Batch_id=390 Accuracy=80.19: 100%|██████████| 391/391 [00:19<00:00, 20.42it/s]\n"
          ]
        },
        {
          "output_type": "stream",
          "name": "stdout",
          "text": [
            "\n",
            "Test set: Average loss: 0.4528, Accuracy: 8453/10000 (84.53%)\n",
            "\n"
          ]
        },
        {
          "output_type": "stream",
          "name": "stderr",
          "text": [
            "Loss=0.8875151872634888 Batch_id=390 Accuracy=75.78: 100%|██████████| 391/391 [00:21<00:00, 18.35it/s]\n"
          ]
        },
        {
          "output_type": "stream",
          "name": "stdout",
          "text": [
            "\n",
            "Test set: Average loss: 0.5338, Accuracy: 8163/10000 (81.63%)\n",
            "\n",
            "EPOCH: 27\n"
          ]
        },
        {
          "output_type": "stream",
          "name": "stderr",
          "text": [
            "Loss=0.5579840540885925 Batch_id=390 Accuracy=80.08: 100%|██████████| 391/391 [00:19<00:00, 20.56it/s]\n"
          ]
        },
        {
          "output_type": "stream",
          "name": "stdout",
          "text": [
            "\n",
            "Test set: Average loss: 0.4496, Accuracy: 8456/10000 (84.56%)\n",
            "\n"
          ]
        },
        {
          "output_type": "stream",
          "name": "stderr",
          "text": [
            "Loss=0.7043421268463135 Batch_id=390 Accuracy=75.91: 100%|██████████| 391/391 [00:21<00:00, 18.23it/s]\n"
          ]
        },
        {
          "output_type": "stream",
          "name": "stdout",
          "text": [
            "\n",
            "Test set: Average loss: 0.5345, Accuracy: 8187/10000 (81.87%)\n",
            "\n",
            "EPOCH: 28\n"
          ]
        },
        {
          "output_type": "stream",
          "name": "stderr",
          "text": [
            "Loss=0.5426055788993835 Batch_id=390 Accuracy=79.99: 100%|██████████| 391/391 [00:19<00:00, 20.46it/s]\n"
          ]
        },
        {
          "output_type": "stream",
          "name": "stdout",
          "text": [
            "\n",
            "Test set: Average loss: 0.4470, Accuracy: 8484/10000 (84.84%)\n",
            "\n"
          ]
        },
        {
          "output_type": "stream",
          "name": "stderr",
          "text": [
            "Loss=0.606012761592865 Batch_id=390 Accuracy=76.10: 100%|██████████| 391/391 [00:21<00:00, 18.42it/s]\n"
          ]
        },
        {
          "output_type": "stream",
          "name": "stdout",
          "text": [
            "\n",
            "Test set: Average loss: 0.5274, Accuracy: 8195/10000 (81.95%)\n",
            "\n",
            "EPOCH: 29\n"
          ]
        },
        {
          "output_type": "stream",
          "name": "stderr",
          "text": [
            "Loss=0.5833575129508972 Batch_id=390 Accuracy=80.13: 100%|██████████| 391/391 [00:19<00:00, 20.29it/s]\n"
          ]
        },
        {
          "output_type": "stream",
          "name": "stdout",
          "text": [
            "\n",
            "Test set: Average loss: 0.4449, Accuracy: 8488/10000 (84.88%)\n",
            "\n"
          ]
        },
        {
          "output_type": "stream",
          "name": "stderr",
          "text": [
            "Loss=0.7536693215370178 Batch_id=390 Accuracy=76.31: 100%|██████████| 391/391 [00:23<00:00, 16.72it/s]\n"
          ]
        },
        {
          "output_type": "stream",
          "name": "stdout",
          "text": [
            "\n",
            "Test set: Average loss: 0.5164, Accuracy: 8225/10000 (82.25%)\n",
            "\n",
            "EPOCH: 30\n"
          ]
        },
        {
          "output_type": "stream",
          "name": "stderr",
          "text": [
            "Loss=0.6624547839164734 Batch_id=390 Accuracy=80.07: 100%|██████████| 391/391 [00:19<00:00, 20.00it/s]\n"
          ]
        },
        {
          "output_type": "stream",
          "name": "stdout",
          "text": [
            "\n",
            "Test set: Average loss: 0.4452, Accuracy: 8487/10000 (84.87%)\n",
            "\n"
          ]
        },
        {
          "output_type": "stream",
          "name": "stderr",
          "text": [
            "Loss=0.7975285649299622 Batch_id=390 Accuracy=76.05: 100%|██████████| 391/391 [00:21<00:00, 18.28it/s]\n"
          ]
        },
        {
          "output_type": "stream",
          "name": "stdout",
          "text": [
            "\n",
            "Test set: Average loss: 0.5163, Accuracy: 8246/10000 (82.46%)\n",
            "\n",
            "EPOCH: 31\n"
          ]
        },
        {
          "output_type": "stream",
          "name": "stderr",
          "text": [
            "Loss=0.8069856762886047 Batch_id=390 Accuracy=80.15: 100%|██████████| 391/391 [00:19<00:00, 20.19it/s]\n"
          ]
        },
        {
          "output_type": "stream",
          "name": "stdout",
          "text": [
            "\n",
            "Test set: Average loss: 0.4433, Accuracy: 8480/10000 (84.80%)\n",
            "\n"
          ]
        },
        {
          "output_type": "stream",
          "name": "stderr",
          "text": [
            "Loss=0.6074720621109009 Batch_id=390 Accuracy=76.27: 100%|██████████| 391/391 [00:21<00:00, 18.20it/s]\n"
          ]
        },
        {
          "output_type": "stream",
          "name": "stdout",
          "text": [
            "\n",
            "Test set: Average loss: 0.5231, Accuracy: 8230/10000 (82.30%)\n",
            "\n",
            "EPOCH: 32\n"
          ]
        },
        {
          "output_type": "stream",
          "name": "stderr",
          "text": [
            "Loss=0.538317084312439 Batch_id=390 Accuracy=80.20: 100%|██████████| 391/391 [00:19<00:00, 20.42it/s]\n"
          ]
        },
        {
          "output_type": "stream",
          "name": "stdout",
          "text": [
            "\n",
            "Test set: Average loss: 0.4423, Accuracy: 8489/10000 (84.89%)\n",
            "\n"
          ]
        },
        {
          "output_type": "stream",
          "name": "stderr",
          "text": [
            "Loss=0.7837607264518738 Batch_id=390 Accuracy=76.55: 100%|██████████| 391/391 [00:21<00:00, 18.22it/s]\n"
          ]
        },
        {
          "output_type": "stream",
          "name": "stdout",
          "text": [
            "\n",
            "Test set: Average loss: 0.5250, Accuracy: 8226/10000 (82.26%)\n",
            "\n",
            "EPOCH: 33\n"
          ]
        },
        {
          "output_type": "stream",
          "name": "stderr",
          "text": [
            "Loss=0.587860107421875 Batch_id=390 Accuracy=80.74: 100%|██████████| 391/391 [00:19<00:00, 20.22it/s]\n"
          ]
        },
        {
          "output_type": "stream",
          "name": "stdout",
          "text": [
            "\n",
            "Test set: Average loss: 0.4427, Accuracy: 8498/10000 (84.98%)\n",
            "\n"
          ]
        },
        {
          "output_type": "stream",
          "name": "stderr",
          "text": [
            "Loss=0.5734957456588745 Batch_id=390 Accuracy=76.52: 100%|██████████| 391/391 [00:21<00:00, 18.29it/s]\n"
          ]
        },
        {
          "output_type": "stream",
          "name": "stdout",
          "text": [
            "\n",
            "Test set: Average loss: 0.5184, Accuracy: 8220/10000 (82.20%)\n",
            "\n",
            "EPOCH: 34\n"
          ]
        },
        {
          "output_type": "stream",
          "name": "stderr",
          "text": [
            "Loss=0.7882193326950073 Batch_id=390 Accuracy=80.64: 100%|██████████| 391/391 [00:21<00:00, 18.16it/s]\n"
          ]
        },
        {
          "output_type": "stream",
          "name": "stdout",
          "text": [
            "\n",
            "Test set: Average loss: 0.4425, Accuracy: 8483/10000 (84.83%)\n",
            "\n"
          ]
        },
        {
          "output_type": "stream",
          "name": "stderr",
          "text": [
            "Loss=0.5453729033470154 Batch_id=390 Accuracy=76.32: 100%|██████████| 391/391 [00:21<00:00, 18.00it/s]\n"
          ]
        },
        {
          "output_type": "stream",
          "name": "stdout",
          "text": [
            "\n",
            "Test set: Average loss: 0.5131, Accuracy: 8254/10000 (82.54%)\n",
            "\n",
            "EPOCH: 35\n"
          ]
        },
        {
          "output_type": "stream",
          "name": "stderr",
          "text": [
            "Loss=0.7485697865486145 Batch_id=390 Accuracy=80.62: 100%|██████████| 391/391 [00:18<00:00, 20.72it/s]\n"
          ]
        },
        {
          "output_type": "stream",
          "name": "stdout",
          "text": [
            "\n",
            "Test set: Average loss: 0.4430, Accuracy: 8506/10000 (85.06%)\n",
            "\n"
          ]
        },
        {
          "output_type": "stream",
          "name": "stderr",
          "text": [
            "Loss=0.8004021644592285 Batch_id=390 Accuracy=76.49: 100%|██████████| 391/391 [00:21<00:00, 18.45it/s]\n"
          ]
        },
        {
          "output_type": "stream",
          "name": "stdout",
          "text": [
            "\n",
            "Test set: Average loss: 0.5118, Accuracy: 8262/10000 (82.62%)\n",
            "\n",
            "EPOCH: 36\n"
          ]
        },
        {
          "output_type": "stream",
          "name": "stderr",
          "text": [
            "Loss=0.5583151578903198 Batch_id=390 Accuracy=80.62: 100%|██████████| 391/391 [00:18<00:00, 20.78it/s]\n"
          ]
        },
        {
          "output_type": "stream",
          "name": "stdout",
          "text": [
            "\n",
            "Test set: Average loss: 0.4407, Accuracy: 8482/10000 (84.82%)\n",
            "\n"
          ]
        },
        {
          "output_type": "stream",
          "name": "stderr",
          "text": [
            "Loss=0.8414756655693054 Batch_id=390 Accuracy=76.55: 100%|██████████| 391/391 [00:20<00:00, 18.65it/s]\n"
          ]
        },
        {
          "output_type": "stream",
          "name": "stdout",
          "text": [
            "\n",
            "Test set: Average loss: 0.5095, Accuracy: 8286/10000 (82.86%)\n",
            "\n",
            "EPOCH: 37\n"
          ]
        },
        {
          "output_type": "stream",
          "name": "stderr",
          "text": [
            "Loss=0.6395132541656494 Batch_id=390 Accuracy=80.71: 100%|██████████| 391/391 [00:19<00:00, 20.12it/s]\n"
          ]
        },
        {
          "output_type": "stream",
          "name": "stdout",
          "text": [
            "\n",
            "Test set: Average loss: 0.4392, Accuracy: 8511/10000 (85.11%)\n",
            "\n"
          ]
        },
        {
          "output_type": "stream",
          "name": "stderr",
          "text": [
            "Loss=0.6048897504806519 Batch_id=390 Accuracy=76.93: 100%|██████████| 391/391 [00:21<00:00, 18.44it/s]\n"
          ]
        },
        {
          "output_type": "stream",
          "name": "stdout",
          "text": [
            "\n",
            "Test set: Average loss: 0.5086, Accuracy: 8284/10000 (82.84%)\n",
            "\n",
            "EPOCH: 38\n"
          ]
        },
        {
          "output_type": "stream",
          "name": "stderr",
          "text": [
            "Loss=0.501846194267273 Batch_id=390 Accuracy=80.74: 100%|██████████| 391/391 [00:19<00:00, 20.31it/s]\n"
          ]
        },
        {
          "output_type": "stream",
          "name": "stdout",
          "text": [
            "\n",
            "Test set: Average loss: 0.4379, Accuracy: 8479/10000 (84.79%)\n",
            "\n"
          ]
        },
        {
          "output_type": "stream",
          "name": "stderr",
          "text": [
            "Loss=0.7162730097770691 Batch_id=390 Accuracy=76.90: 100%|██████████| 391/391 [00:21<00:00, 18.31it/s]\n"
          ]
        },
        {
          "output_type": "stream",
          "name": "stdout",
          "text": [
            "\n",
            "Test set: Average loss: 0.5085, Accuracy: 8256/10000 (82.56%)\n",
            "\n",
            "EPOCH: 39\n"
          ]
        },
        {
          "output_type": "stream",
          "name": "stderr",
          "text": [
            "Loss=0.465512752532959 Batch_id=390 Accuracy=80.61: 100%|██████████| 391/391 [00:18<00:00, 20.83it/s]\n"
          ]
        },
        {
          "output_type": "stream",
          "name": "stdout",
          "text": [
            "\n",
            "Test set: Average loss: 0.4338, Accuracy: 8507/10000 (85.07%)\n",
            "\n"
          ]
        },
        {
          "output_type": "stream",
          "name": "stderr",
          "text": [
            "Loss=0.8358284831047058 Batch_id=390 Accuracy=76.88: 100%|██████████| 391/391 [00:21<00:00, 18.53it/s]\n"
          ]
        },
        {
          "output_type": "stream",
          "name": "stdout",
          "text": [
            "\n",
            "Test set: Average loss: 0.5073, Accuracy: 8285/10000 (82.85%)\n",
            "\n",
            "EPOCH: 40\n"
          ]
        },
        {
          "output_type": "stream",
          "name": "stderr",
          "text": [
            "Loss=0.5668020844459534 Batch_id=390 Accuracy=81.20: 100%|██████████| 391/391 [00:18<00:00, 20.85it/s]\n"
          ]
        },
        {
          "output_type": "stream",
          "name": "stdout",
          "text": [
            "\n",
            "Test set: Average loss: 0.4318, Accuracy: 8514/10000 (85.14%)\n",
            "\n"
          ]
        },
        {
          "output_type": "stream",
          "name": "stderr",
          "text": [
            "Loss=0.6265026926994324 Batch_id=390 Accuracy=77.17: 100%|██████████| 391/391 [00:21<00:00, 18.59it/s]\n"
          ]
        },
        {
          "output_type": "stream",
          "name": "stdout",
          "text": [
            "\n",
            "Test set: Average loss: 0.5024, Accuracy: 8308/10000 (83.08%)\n",
            "\n",
            "EPOCH: 41\n"
          ]
        },
        {
          "output_type": "stream",
          "name": "stderr",
          "text": [
            "Loss=0.4273166060447693 Batch_id=390 Accuracy=81.12: 100%|██████████| 391/391 [00:18<00:00, 21.04it/s]\n"
          ]
        },
        {
          "output_type": "stream",
          "name": "stdout",
          "text": [
            "\n",
            "Test set: Average loss: 0.4310, Accuracy: 8511/10000 (85.11%)\n",
            "\n"
          ]
        },
        {
          "output_type": "stream",
          "name": "stderr",
          "text": [
            "Loss=0.8005531430244446 Batch_id=390 Accuracy=77.40: 100%|██████████| 391/391 [00:21<00:00, 18.48it/s]\n"
          ]
        },
        {
          "output_type": "stream",
          "name": "stdout",
          "text": [
            "\n",
            "Test set: Average loss: 0.5034, Accuracy: 8297/10000 (82.97%)\n",
            "\n",
            "EPOCH: 42\n"
          ]
        },
        {
          "output_type": "stream",
          "name": "stderr",
          "text": [
            "Loss=0.5836805701255798 Batch_id=390 Accuracy=81.20: 100%|██████████| 391/391 [00:18<00:00, 20.67it/s]\n"
          ]
        },
        {
          "output_type": "stream",
          "name": "stdout",
          "text": [
            "\n",
            "Test set: Average loss: 0.4323, Accuracy: 8515/10000 (85.15%)\n",
            "\n"
          ]
        },
        {
          "output_type": "stream",
          "name": "stderr",
          "text": [
            "Loss=0.663347601890564 Batch_id=390 Accuracy=77.24: 100%|██████████| 391/391 [00:21<00:00, 18.42it/s]\n"
          ]
        },
        {
          "output_type": "stream",
          "name": "stdout",
          "text": [
            "\n",
            "Test set: Average loss: 0.5035, Accuracy: 8295/10000 (82.95%)\n",
            "\n",
            "EPOCH: 43\n"
          ]
        },
        {
          "output_type": "stream",
          "name": "stderr",
          "text": [
            "Loss=0.5775811672210693 Batch_id=390 Accuracy=81.32: 100%|██████████| 391/391 [00:18<00:00, 20.68it/s]\n"
          ]
        },
        {
          "output_type": "stream",
          "name": "stdout",
          "text": [
            "\n",
            "Test set: Average loss: 0.4316, Accuracy: 8522/10000 (85.22%)\n",
            "\n"
          ]
        },
        {
          "output_type": "stream",
          "name": "stderr",
          "text": [
            "Loss=0.8094183802604675 Batch_id=390 Accuracy=77.38: 100%|██████████| 391/391 [00:23<00:00, 16.81it/s]\n"
          ]
        },
        {
          "output_type": "stream",
          "name": "stdout",
          "text": [
            "\n",
            "Test set: Average loss: 0.5013, Accuracy: 8312/10000 (83.12%)\n",
            "\n",
            "EPOCH: 44\n"
          ]
        },
        {
          "output_type": "stream",
          "name": "stderr",
          "text": [
            "Loss=0.6480065584182739 Batch_id=390 Accuracy=81.24: 100%|██████████| 391/391 [00:18<00:00, 20.66it/s]\n"
          ]
        },
        {
          "output_type": "stream",
          "name": "stdout",
          "text": [
            "\n",
            "Test set: Average loss: 0.4312, Accuracy: 8529/10000 (85.29%)\n",
            "\n"
          ]
        },
        {
          "output_type": "stream",
          "name": "stderr",
          "text": [
            "Loss=0.7928729057312012 Batch_id=390 Accuracy=77.35: 100%|██████████| 391/391 [00:21<00:00, 17.90it/s]\n"
          ]
        },
        {
          "output_type": "stream",
          "name": "stdout",
          "text": [
            "\n",
            "Test set: Average loss: 0.5005, Accuracy: 8301/10000 (83.01%)\n",
            "\n",
            "EPOCH: 45\n"
          ]
        },
        {
          "output_type": "stream",
          "name": "stderr",
          "text": [
            "Loss=0.44515013694763184 Batch_id=390 Accuracy=81.29: 100%|██████████| 391/391 [00:19<00:00, 20.19it/s]\n"
          ]
        },
        {
          "output_type": "stream",
          "name": "stdout",
          "text": [
            "\n",
            "Test set: Average loss: 0.4312, Accuracy: 8528/10000 (85.28%)\n",
            "\n"
          ]
        },
        {
          "output_type": "stream",
          "name": "stderr",
          "text": [
            "Loss=0.7037723660469055 Batch_id=390 Accuracy=77.29: 100%|██████████| 391/391 [00:21<00:00, 18.00it/s]\n"
          ]
        },
        {
          "output_type": "stream",
          "name": "stdout",
          "text": [
            "\n",
            "Test set: Average loss: 0.5015, Accuracy: 8311/10000 (83.11%)\n",
            "\n",
            "EPOCH: 46\n"
          ]
        },
        {
          "output_type": "stream",
          "name": "stderr",
          "text": [
            "Loss=0.6226286292076111 Batch_id=390 Accuracy=81.13: 100%|██████████| 391/391 [00:19<00:00, 20.00it/s]\n"
          ]
        },
        {
          "output_type": "stream",
          "name": "stdout",
          "text": [
            "\n",
            "Test set: Average loss: 0.4313, Accuracy: 8523/10000 (85.23%)\n",
            "\n"
          ]
        },
        {
          "output_type": "stream",
          "name": "stderr",
          "text": [
            "Loss=0.553004801273346 Batch_id=390 Accuracy=77.58: 100%|██████████| 391/391 [00:21<00:00, 18.16it/s]\n"
          ]
        },
        {
          "output_type": "stream",
          "name": "stdout",
          "text": [
            "\n",
            "Test set: Average loss: 0.5001, Accuracy: 8296/10000 (82.96%)\n",
            "\n",
            "EPOCH: 47\n"
          ]
        },
        {
          "output_type": "stream",
          "name": "stderr",
          "text": [
            "Loss=0.6222202777862549 Batch_id=390 Accuracy=80.92: 100%|██████████| 391/391 [00:19<00:00, 20.49it/s]\n"
          ]
        },
        {
          "output_type": "stream",
          "name": "stdout",
          "text": [
            "\n",
            "Test set: Average loss: 0.4331, Accuracy: 8525/10000 (85.25%)\n",
            "\n"
          ]
        },
        {
          "output_type": "stream",
          "name": "stderr",
          "text": [
            "Loss=0.8045439720153809 Batch_id=390 Accuracy=77.53: 100%|██████████| 391/391 [00:21<00:00, 18.22it/s]\n"
          ]
        },
        {
          "output_type": "stream",
          "name": "stdout",
          "text": [
            "\n",
            "Test set: Average loss: 0.4980, Accuracy: 8297/10000 (82.97%)\n",
            "\n",
            "EPOCH: 48\n"
          ]
        },
        {
          "output_type": "stream",
          "name": "stderr",
          "text": [
            "Loss=0.6126116514205933 Batch_id=390 Accuracy=81.08: 100%|██████████| 391/391 [00:19<00:00, 20.26it/s]\n"
          ]
        },
        {
          "output_type": "stream",
          "name": "stdout",
          "text": [
            "\n",
            "Test set: Average loss: 0.4311, Accuracy: 8523/10000 (85.23%)\n",
            "\n"
          ]
        },
        {
          "output_type": "stream",
          "name": "stderr",
          "text": [
            "Loss=0.6959021091461182 Batch_id=390 Accuracy=77.38: 100%|██████████| 391/391 [00:21<00:00, 18.46it/s]\n"
          ]
        },
        {
          "output_type": "stream",
          "name": "stdout",
          "text": [
            "\n",
            "Test set: Average loss: 0.4991, Accuracy: 8303/10000 (83.03%)\n",
            "\n",
            "EPOCH: 49\n"
          ]
        },
        {
          "output_type": "stream",
          "name": "stderr",
          "text": [
            "Loss=0.5772585272789001 Batch_id=390 Accuracy=81.41: 100%|██████████| 391/391 [00:19<00:00, 20.53it/s]\n"
          ]
        },
        {
          "output_type": "stream",
          "name": "stdout",
          "text": [
            "\n",
            "Test set: Average loss: 0.4306, Accuracy: 8534/10000 (85.34%)\n",
            "\n"
          ]
        },
        {
          "output_type": "stream",
          "name": "stderr",
          "text": [
            "Loss=0.7379903793334961 Batch_id=390 Accuracy=77.27: 100%|██████████| 391/391 [00:21<00:00, 18.19it/s]\n"
          ]
        },
        {
          "output_type": "stream",
          "name": "stdout",
          "text": [
            "\n",
            "Test set: Average loss: 0.5004, Accuracy: 8297/10000 (82.97%)\n",
            "\n",
            "EPOCH: 50\n"
          ]
        },
        {
          "output_type": "stream",
          "name": "stderr",
          "text": [
            "Loss=0.5951771140098572 Batch_id=390 Accuracy=81.07: 100%|██████████| 391/391 [00:19<00:00, 20.37it/s]\n"
          ]
        },
        {
          "output_type": "stream",
          "name": "stdout",
          "text": [
            "\n",
            "Test set: Average loss: 0.4293, Accuracy: 8534/10000 (85.34%)\n",
            "\n"
          ]
        },
        {
          "output_type": "stream",
          "name": "stderr",
          "text": [
            "Loss=0.572419285774231 Batch_id=390 Accuracy=77.28: 100%|██████████| 391/391 [00:21<00:00, 18.24it/s]\n"
          ]
        },
        {
          "output_type": "stream",
          "name": "stdout",
          "text": [
            "\n",
            "Test set: Average loss: 0.5011, Accuracy: 8316/10000 (83.16%)\n",
            "\n",
            "EPOCH: 51\n"
          ]
        },
        {
          "output_type": "stream",
          "name": "stderr",
          "text": [
            "Loss=0.7692269086837769 Batch_id=390 Accuracy=81.24: 100%|██████████| 391/391 [00:20<00:00, 18.78it/s]\n"
          ]
        },
        {
          "output_type": "stream",
          "name": "stdout",
          "text": [
            "\n",
            "Test set: Average loss: 0.4298, Accuracy: 8531/10000 (85.31%)\n",
            "\n"
          ]
        },
        {
          "output_type": "stream",
          "name": "stderr",
          "text": [
            "Loss=0.5625337362289429 Batch_id=390 Accuracy=77.20: 100%|██████████| 391/391 [00:21<00:00, 18.54it/s]\n"
          ]
        },
        {
          "output_type": "stream",
          "name": "stdout",
          "text": [
            "\n",
            "Test set: Average loss: 0.4994, Accuracy: 8304/10000 (83.04%)\n",
            "\n",
            "EPOCH: 52\n"
          ]
        },
        {
          "output_type": "stream",
          "name": "stderr",
          "text": [
            "Loss=0.45388156175613403 Batch_id=390 Accuracy=81.29: 100%|██████████| 391/391 [00:18<00:00, 21.05it/s]\n"
          ]
        },
        {
          "output_type": "stream",
          "name": "stdout",
          "text": [
            "\n",
            "Test set: Average loss: 0.4280, Accuracy: 8534/10000 (85.34%)\n",
            "\n"
          ]
        },
        {
          "output_type": "stream",
          "name": "stderr",
          "text": [
            "Loss=0.6992494463920593 Batch_id=390 Accuracy=77.06: 100%|██████████| 391/391 [00:20<00:00, 18.67it/s]\n"
          ]
        },
        {
          "output_type": "stream",
          "name": "stdout",
          "text": [
            "\n",
            "Test set: Average loss: 0.4983, Accuracy: 8305/10000 (83.05%)\n",
            "\n",
            "EPOCH: 53\n"
          ]
        },
        {
          "output_type": "stream",
          "name": "stderr",
          "text": [
            "Loss=0.5386393070220947 Batch_id=390 Accuracy=81.11: 100%|██████████| 391/391 [00:18<00:00, 20.85it/s]\n"
          ]
        },
        {
          "output_type": "stream",
          "name": "stdout",
          "text": [
            "\n",
            "Test set: Average loss: 0.4319, Accuracy: 8528/10000 (85.28%)\n",
            "\n"
          ]
        },
        {
          "output_type": "stream",
          "name": "stderr",
          "text": [
            "Loss=0.8309720754623413 Batch_id=390 Accuracy=77.42: 100%|██████████| 391/391 [00:21<00:00, 18.50it/s]\n"
          ]
        },
        {
          "output_type": "stream",
          "name": "stdout",
          "text": [
            "\n",
            "Test set: Average loss: 0.5003, Accuracy: 8313/10000 (83.13%)\n",
            "\n",
            "EPOCH: 54\n"
          ]
        },
        {
          "output_type": "stream",
          "name": "stderr",
          "text": [
            "Loss=0.5449854135513306 Batch_id=390 Accuracy=81.36: 100%|██████████| 391/391 [00:18<00:00, 21.11it/s]\n"
          ]
        },
        {
          "output_type": "stream",
          "name": "stdout",
          "text": [
            "\n",
            "Test set: Average loss: 0.4308, Accuracy: 8526/10000 (85.26%)\n",
            "\n"
          ]
        },
        {
          "output_type": "stream",
          "name": "stderr",
          "text": [
            "Loss=0.705818235874176 Batch_id=390 Accuracy=77.58: 100%|██████████| 391/391 [00:20<00:00, 18.65it/s]\n"
          ]
        },
        {
          "output_type": "stream",
          "name": "stdout",
          "text": [
            "\n",
            "Test set: Average loss: 0.4980, Accuracy: 8307/10000 (83.07%)\n",
            "\n",
            "EPOCH: 55\n"
          ]
        },
        {
          "output_type": "stream",
          "name": "stderr",
          "text": [
            "Loss=0.6566400527954102 Batch_id=390 Accuracy=81.12: 100%|██████████| 391/391 [00:18<00:00, 20.66it/s]\n"
          ]
        },
        {
          "output_type": "stream",
          "name": "stdout",
          "text": [
            "\n",
            "Test set: Average loss: 0.4294, Accuracy: 8541/10000 (85.41%)\n",
            "\n"
          ]
        },
        {
          "output_type": "stream",
          "name": "stderr",
          "text": [
            "Loss=0.7056454420089722 Batch_id=390 Accuracy=77.35: 100%|██████████| 391/391 [00:22<00:00, 17.20it/s]\n"
          ]
        },
        {
          "output_type": "stream",
          "name": "stdout",
          "text": [
            "\n",
            "Test set: Average loss: 0.4981, Accuracy: 8308/10000 (83.08%)\n",
            "\n",
            "EPOCH: 56\n"
          ]
        },
        {
          "output_type": "stream",
          "name": "stderr",
          "text": [
            "Loss=0.7813236117362976 Batch_id=390 Accuracy=81.20: 100%|██████████| 391/391 [00:18<00:00, 20.71it/s]\n"
          ]
        },
        {
          "output_type": "stream",
          "name": "stdout",
          "text": [
            "\n",
            "Test set: Average loss: 0.4317, Accuracy: 8545/10000 (85.45%)\n",
            "\n"
          ]
        },
        {
          "output_type": "stream",
          "name": "stderr",
          "text": [
            "Loss=0.5171781182289124 Batch_id=390 Accuracy=77.19: 100%|██████████| 391/391 [00:21<00:00, 18.53it/s]\n"
          ]
        },
        {
          "output_type": "stream",
          "name": "stdout",
          "text": [
            "\n",
            "Test set: Average loss: 0.5004, Accuracy: 8294/10000 (82.94%)\n",
            "\n",
            "EPOCH: 57\n"
          ]
        },
        {
          "output_type": "stream",
          "name": "stderr",
          "text": [
            "Loss=0.4627758860588074 Batch_id=390 Accuracy=81.33: 100%|██████████| 391/391 [00:18<00:00, 20.89it/s]\n"
          ]
        },
        {
          "output_type": "stream",
          "name": "stdout",
          "text": [
            "\n",
            "Test set: Average loss: 0.4287, Accuracy: 8536/10000 (85.36%)\n",
            "\n"
          ]
        },
        {
          "output_type": "stream",
          "name": "stderr",
          "text": [
            "Loss=0.7720502614974976 Batch_id=390 Accuracy=77.46: 100%|██████████| 391/391 [00:21<00:00, 18.52it/s]\n"
          ]
        },
        {
          "output_type": "stream",
          "name": "stdout",
          "text": [
            "\n",
            "Test set: Average loss: 0.5011, Accuracy: 8287/10000 (82.87%)\n",
            "\n",
            "EPOCH: 58\n"
          ]
        },
        {
          "output_type": "stream",
          "name": "stderr",
          "text": [
            "Loss=0.5341051816940308 Batch_id=390 Accuracy=81.44: 100%|██████████| 391/391 [00:19<00:00, 20.50it/s]\n"
          ]
        },
        {
          "output_type": "stream",
          "name": "stdout",
          "text": [
            "\n",
            "Test set: Average loss: 0.4289, Accuracy: 8538/10000 (85.38%)\n",
            "\n"
          ]
        },
        {
          "output_type": "stream",
          "name": "stderr",
          "text": [
            "Loss=0.7006623148918152 Batch_id=390 Accuracy=77.46: 100%|██████████| 391/391 [00:21<00:00, 18.49it/s]\n"
          ]
        },
        {
          "output_type": "stream",
          "name": "stdout",
          "text": [
            "\n",
            "Test set: Average loss: 0.4986, Accuracy: 8307/10000 (83.07%)\n",
            "\n",
            "EPOCH: 59\n"
          ]
        },
        {
          "output_type": "stream",
          "name": "stderr",
          "text": [
            "Loss=0.5660357475280762 Batch_id=390 Accuracy=81.37: 100%|██████████| 391/391 [00:18<00:00, 20.86it/s]\n"
          ]
        },
        {
          "output_type": "stream",
          "name": "stdout",
          "text": [
            "\n",
            "Test set: Average loss: 0.4303, Accuracy: 8533/10000 (85.33%)\n",
            "\n"
          ]
        },
        {
          "output_type": "stream",
          "name": "stderr",
          "text": [
            "Loss=0.5449489951133728 Batch_id=390 Accuracy=77.37: 100%|██████████| 391/391 [00:21<00:00, 18.58it/s]\n"
          ]
        },
        {
          "output_type": "stream",
          "name": "stdout",
          "text": [
            "\n",
            "Test set: Average loss: 0.4968, Accuracy: 8309/10000 (83.09%)\n",
            "\n",
            "EPOCH: 60\n"
          ]
        },
        {
          "output_type": "stream",
          "name": "stderr",
          "text": [
            "Loss=0.5501915216445923 Batch_id=390 Accuracy=81.45: 100%|██████████| 391/391 [00:25<00:00, 15.31it/s]\n"
          ]
        },
        {
          "output_type": "stream",
          "name": "stdout",
          "text": [
            "\n",
            "Test set: Average loss: 0.4299, Accuracy: 8534/10000 (85.34%)\n",
            "\n"
          ]
        },
        {
          "output_type": "stream",
          "name": "stderr",
          "text": [
            "Loss=0.6299338936805725 Batch_id=390 Accuracy=77.64: 100%|██████████| 391/391 [00:24<00:00, 16.05it/s]\n"
          ]
        },
        {
          "output_type": "stream",
          "name": "stdout",
          "text": [
            "\n",
            "Test set: Average loss: 0.4985, Accuracy: 8299/10000 (82.99%)\n",
            "\n",
            "EPOCH: 61\n"
          ]
        },
        {
          "output_type": "stream",
          "name": "stderr",
          "text": [
            "Loss=0.6146194934844971 Batch_id=390 Accuracy=81.36: 100%|██████████| 391/391 [00:19<00:00, 19.92it/s]\n"
          ]
        },
        {
          "output_type": "stream",
          "name": "stdout",
          "text": [
            "\n",
            "Test set: Average loss: 0.4299, Accuracy: 8547/10000 (85.47%)\n",
            "\n"
          ]
        },
        {
          "output_type": "stream",
          "name": "stderr",
          "text": [
            "Loss=0.6577039957046509 Batch_id=390 Accuracy=77.71: 100%|██████████| 391/391 [00:21<00:00, 18.49it/s]\n"
          ]
        },
        {
          "output_type": "stream",
          "name": "stdout",
          "text": [
            "\n",
            "Test set: Average loss: 0.4987, Accuracy: 8295/10000 (82.95%)\n",
            "\n",
            "EPOCH: 62\n"
          ]
        },
        {
          "output_type": "stream",
          "name": "stderr",
          "text": [
            "Loss=0.471235990524292 Batch_id=390 Accuracy=81.34: 100%|██████████| 391/391 [00:20<00:00, 18.90it/s]\n"
          ]
        },
        {
          "output_type": "stream",
          "name": "stdout",
          "text": [
            "\n",
            "Test set: Average loss: 0.4275, Accuracy: 8534/10000 (85.34%)\n",
            "\n"
          ]
        },
        {
          "output_type": "stream",
          "name": "stderr",
          "text": [
            "Loss=0.6185367107391357 Batch_id=390 Accuracy=77.57: 100%|██████████| 391/391 [00:22<00:00, 17.54it/s]\n"
          ]
        },
        {
          "output_type": "stream",
          "name": "stdout",
          "text": [
            "\n",
            "Test set: Average loss: 0.4995, Accuracy: 8306/10000 (83.06%)\n",
            "\n",
            "EPOCH: 63\n"
          ]
        },
        {
          "output_type": "stream",
          "name": "stderr",
          "text": [
            "Loss=0.39028000831604004 Batch_id=390 Accuracy=81.26: 100%|██████████| 391/391 [00:20<00:00, 18.72it/s]\n"
          ]
        },
        {
          "output_type": "stream",
          "name": "stdout",
          "text": [
            "\n",
            "Test set: Average loss: 0.4287, Accuracy: 8539/10000 (85.39%)\n",
            "\n"
          ]
        },
        {
          "output_type": "stream",
          "name": "stderr",
          "text": [
            "Loss=0.7789562940597534 Batch_id=390 Accuracy=77.48: 100%|██████████| 391/391 [00:21<00:00, 18.08it/s]\n"
          ]
        },
        {
          "output_type": "stream",
          "name": "stdout",
          "text": [
            "\n",
            "Test set: Average loss: 0.4996, Accuracy: 8307/10000 (83.07%)\n",
            "\n",
            "EPOCH: 64\n"
          ]
        },
        {
          "output_type": "stream",
          "name": "stderr",
          "text": [
            "Loss=0.6746408343315125 Batch_id=390 Accuracy=81.24: 100%|██████████| 391/391 [00:18<00:00, 20.73it/s]\n"
          ]
        },
        {
          "output_type": "stream",
          "name": "stdout",
          "text": [
            "\n",
            "Test set: Average loss: 0.4306, Accuracy: 8534/10000 (85.34%)\n",
            "\n"
          ]
        },
        {
          "output_type": "stream",
          "name": "stderr",
          "text": [
            "Loss=0.5797885656356812 Batch_id=390 Accuracy=77.81: 100%|██████████| 391/391 [00:23<00:00, 16.95it/s]\n"
          ]
        },
        {
          "output_type": "stream",
          "name": "stdout",
          "text": [
            "\n",
            "Test set: Average loss: 0.4979, Accuracy: 8293/10000 (82.93%)\n",
            "\n",
            "EPOCH: 65\n"
          ]
        },
        {
          "output_type": "stream",
          "name": "stderr",
          "text": [
            "Loss=0.633586049079895 Batch_id=390 Accuracy=81.45: 100%|██████████| 391/391 [00:20<00:00, 18.79it/s]\n"
          ]
        },
        {
          "output_type": "stream",
          "name": "stdout",
          "text": [
            "\n",
            "Test set: Average loss: 0.4294, Accuracy: 8535/10000 (85.35%)\n",
            "\n"
          ]
        },
        {
          "output_type": "stream",
          "name": "stderr",
          "text": [
            "Loss=0.7334998846054077 Batch_id=390 Accuracy=77.31: 100%|██████████| 391/391 [00:23<00:00, 16.87it/s]\n"
          ]
        },
        {
          "output_type": "stream",
          "name": "stdout",
          "text": [
            "\n",
            "Test set: Average loss: 0.4985, Accuracy: 8282/10000 (82.82%)\n",
            "\n",
            "EPOCH: 66\n"
          ]
        },
        {
          "output_type": "stream",
          "name": "stderr",
          "text": [
            "Loss=0.5967823266983032 Batch_id=390 Accuracy=81.29: 100%|██████████| 391/391 [00:20<00:00, 19.35it/s]\n"
          ]
        },
        {
          "output_type": "stream",
          "name": "stdout",
          "text": [
            "\n",
            "Test set: Average loss: 0.4294, Accuracy: 8540/10000 (85.40%)\n",
            "\n"
          ]
        },
        {
          "output_type": "stream",
          "name": "stderr",
          "text": [
            "Loss=0.7089625597000122 Batch_id=390 Accuracy=77.48: 100%|██████████| 391/391 [00:24<00:00, 15.97it/s]\n"
          ]
        },
        {
          "output_type": "stream",
          "name": "stdout",
          "text": [
            "\n",
            "Test set: Average loss: 0.4971, Accuracy: 8311/10000 (83.11%)\n",
            "\n",
            "EPOCH: 67\n"
          ]
        },
        {
          "output_type": "stream",
          "name": "stderr",
          "text": [
            "Loss=0.6009664535522461 Batch_id=390 Accuracy=81.10: 100%|██████████| 391/391 [00:21<00:00, 17.94it/s]\n"
          ]
        },
        {
          "output_type": "stream",
          "name": "stdout",
          "text": [
            "\n",
            "Test set: Average loss: 0.4297, Accuracy: 8530/10000 (85.30%)\n",
            "\n"
          ]
        },
        {
          "output_type": "stream",
          "name": "stderr",
          "text": [
            "Loss=0.5286519527435303 Batch_id=390 Accuracy=77.29: 100%|██████████| 391/391 [00:24<00:00, 15.91it/s]\n"
          ]
        },
        {
          "output_type": "stream",
          "name": "stdout",
          "text": [
            "\n",
            "Test set: Average loss: 0.4975, Accuracy: 8297/10000 (82.97%)\n",
            "\n",
            "EPOCH: 68\n"
          ]
        },
        {
          "output_type": "stream",
          "name": "stderr",
          "text": [
            "Loss=0.27345845103263855 Batch_id=390 Accuracy=81.16: 100%|██████████| 391/391 [00:19<00:00, 20.29it/s]\n"
          ]
        },
        {
          "output_type": "stream",
          "name": "stdout",
          "text": [
            "\n",
            "Test set: Average loss: 0.4280, Accuracy: 8538/10000 (85.38%)\n",
            "\n"
          ]
        },
        {
          "output_type": "stream",
          "name": "stderr",
          "text": [
            "Loss=0.5712543725967407 Batch_id=390 Accuracy=77.41: 100%|██████████| 391/391 [00:22<00:00, 17.23it/s]\n"
          ]
        },
        {
          "output_type": "stream",
          "name": "stdout",
          "text": [
            "\n",
            "Test set: Average loss: 0.4974, Accuracy: 8300/10000 (83.00%)\n",
            "\n",
            "EPOCH: 69\n"
          ]
        },
        {
          "output_type": "stream",
          "name": "stderr",
          "text": [
            "Loss=0.6991026401519775 Batch_id=390 Accuracy=81.57: 100%|██████████| 391/391 [00:19<00:00, 20.47it/s]\n"
          ]
        },
        {
          "output_type": "stream",
          "name": "stdout",
          "text": [
            "\n",
            "Test set: Average loss: 0.4281, Accuracy: 8542/10000 (85.42%)\n",
            "\n"
          ]
        },
        {
          "output_type": "stream",
          "name": "stderr",
          "text": [
            "Loss=0.46125322580337524 Batch_id=390 Accuracy=77.59: 100%|██████████| 391/391 [00:21<00:00, 17.90it/s]\n"
          ]
        },
        {
          "output_type": "stream",
          "name": "stdout",
          "text": [
            "\n",
            "Test set: Average loss: 0.4967, Accuracy: 8300/10000 (83.00%)\n",
            "\n",
            "EPOCH: 70\n"
          ]
        },
        {
          "output_type": "stream",
          "name": "stderr",
          "text": [
            "Loss=0.36644238233566284 Batch_id=390 Accuracy=81.48: 100%|██████████| 391/391 [00:19<00:00, 20.43it/s]\n"
          ]
        },
        {
          "output_type": "stream",
          "name": "stdout",
          "text": [
            "\n",
            "Test set: Average loss: 0.4263, Accuracy: 8544/10000 (85.44%)\n",
            "\n"
          ]
        },
        {
          "output_type": "stream",
          "name": "stderr",
          "text": [
            "Loss=0.5980291366577148 Batch_id=390 Accuracy=77.66: 100%|██████████| 391/391 [00:21<00:00, 18.27it/s]\n"
          ]
        },
        {
          "output_type": "stream",
          "name": "stdout",
          "text": [
            "\n",
            "Test set: Average loss: 0.4972, Accuracy: 8301/10000 (83.01%)\n",
            "\n",
            "EPOCH: 71\n"
          ]
        },
        {
          "output_type": "stream",
          "name": "stderr",
          "text": [
            "Loss=0.7866867184638977 Batch_id=390 Accuracy=81.54: 100%|██████████| 391/391 [00:19<00:00, 20.55it/s]\n"
          ]
        },
        {
          "output_type": "stream",
          "name": "stdout",
          "text": [
            "\n",
            "Test set: Average loss: 0.4292, Accuracy: 8540/10000 (85.40%)\n",
            "\n"
          ]
        },
        {
          "output_type": "stream",
          "name": "stderr",
          "text": [
            "Loss=0.6105941534042358 Batch_id=390 Accuracy=77.25: 100%|██████████| 391/391 [00:21<00:00, 18.36it/s]\n"
          ]
        },
        {
          "output_type": "stream",
          "name": "stdout",
          "text": [
            "\n",
            "Test set: Average loss: 0.5000, Accuracy: 8298/10000 (82.98%)\n",
            "\n",
            "EPOCH: 72\n"
          ]
        },
        {
          "output_type": "stream",
          "name": "stderr",
          "text": [
            "Loss=0.4057266116142273 Batch_id=390 Accuracy=81.08: 100%|██████████| 391/391 [00:19<00:00, 20.54it/s]\n"
          ]
        },
        {
          "output_type": "stream",
          "name": "stdout",
          "text": [
            "\n",
            "Test set: Average loss: 0.4277, Accuracy: 8541/10000 (85.41%)\n",
            "\n"
          ]
        },
        {
          "output_type": "stream",
          "name": "stderr",
          "text": [
            "Loss=0.6593300104141235 Batch_id=390 Accuracy=77.43: 100%|██████████| 391/391 [00:21<00:00, 18.31it/s]\n"
          ]
        },
        {
          "output_type": "stream",
          "name": "stdout",
          "text": [
            "\n",
            "Test set: Average loss: 0.4996, Accuracy: 8308/10000 (83.08%)\n",
            "\n",
            "EPOCH: 73\n"
          ]
        },
        {
          "output_type": "stream",
          "name": "stderr",
          "text": [
            "Loss=0.6233020424842834 Batch_id=390 Accuracy=81.30: 100%|██████████| 391/391 [00:18<00:00, 20.71it/s]\n"
          ]
        },
        {
          "output_type": "stream",
          "name": "stdout",
          "text": [
            "\n",
            "Test set: Average loss: 0.4299, Accuracy: 8532/10000 (85.32%)\n",
            "\n"
          ]
        },
        {
          "output_type": "stream",
          "name": "stderr",
          "text": [
            "Loss=0.5305755734443665 Batch_id=390 Accuracy=77.61: 100%|██████████| 391/391 [00:22<00:00, 17.18it/s]\n"
          ]
        },
        {
          "output_type": "stream",
          "name": "stdout",
          "text": [
            "\n",
            "Test set: Average loss: 0.4982, Accuracy: 8294/10000 (82.94%)\n",
            "\n",
            "EPOCH: 74\n"
          ]
        },
        {
          "output_type": "stream",
          "name": "stderr",
          "text": [
            "Loss=0.490531861782074 Batch_id=390 Accuracy=81.68: 100%|██████████| 391/391 [00:18<00:00, 20.61it/s]\n"
          ]
        },
        {
          "output_type": "stream",
          "name": "stdout",
          "text": [
            "\n",
            "Test set: Average loss: 0.4284, Accuracy: 8534/10000 (85.34%)\n",
            "\n"
          ]
        },
        {
          "output_type": "stream",
          "name": "stderr",
          "text": [
            "Loss=0.5494340658187866 Batch_id=390 Accuracy=77.39: 100%|██████████| 391/391 [00:21<00:00, 17.97it/s]\n"
          ]
        },
        {
          "output_type": "stream",
          "name": "stdout",
          "text": [
            "\n",
            "Test set: Average loss: 0.4983, Accuracy: 8308/10000 (83.08%)\n",
            "\n",
            "EPOCH: 75\n"
          ]
        },
        {
          "output_type": "stream",
          "name": "stderr",
          "text": [
            "Loss=0.5562683939933777 Batch_id=390 Accuracy=81.61: 100%|██████████| 391/391 [00:20<00:00, 19.34it/s]\n"
          ]
        },
        {
          "output_type": "stream",
          "name": "stdout",
          "text": [
            "\n",
            "Test set: Average loss: 0.4296, Accuracy: 8536/10000 (85.36%)\n",
            "\n"
          ]
        },
        {
          "output_type": "stream",
          "name": "stderr",
          "text": [
            "Loss=0.6562783718109131 Batch_id=390 Accuracy=77.22: 100%|██████████| 391/391 [00:21<00:00, 17.84it/s]\n"
          ]
        },
        {
          "output_type": "stream",
          "name": "stdout",
          "text": [
            "\n",
            "Test set: Average loss: 0.4966, Accuracy: 8304/10000 (83.04%)\n",
            "\n",
            "EPOCH: 76\n"
          ]
        },
        {
          "output_type": "stream",
          "name": "stderr",
          "text": [
            "Loss=0.4930347800254822 Batch_id=390 Accuracy=81.56: 100%|██████████| 391/391 [00:19<00:00, 19.92it/s]\n"
          ]
        },
        {
          "output_type": "stream",
          "name": "stdout",
          "text": [
            "\n",
            "Test set: Average loss: 0.4292, Accuracy: 8523/10000 (85.23%)\n",
            "\n"
          ]
        },
        {
          "output_type": "stream",
          "name": "stderr",
          "text": [
            "Loss=0.6153714656829834 Batch_id=390 Accuracy=77.45: 100%|██████████| 391/391 [00:22<00:00, 17.61it/s]\n"
          ]
        },
        {
          "output_type": "stream",
          "name": "stdout",
          "text": [
            "\n",
            "Test set: Average loss: 0.4963, Accuracy: 8301/10000 (83.01%)\n",
            "\n",
            "EPOCH: 77\n"
          ]
        },
        {
          "output_type": "stream",
          "name": "stderr",
          "text": [
            "Loss=0.4474758505821228 Batch_id=390 Accuracy=81.32: 100%|██████████| 391/391 [00:20<00:00, 19.32it/s]\n"
          ]
        },
        {
          "output_type": "stream",
          "name": "stdout",
          "text": [
            "\n",
            "Test set: Average loss: 0.4288, Accuracy: 8536/10000 (85.36%)\n",
            "\n"
          ]
        },
        {
          "output_type": "stream",
          "name": "stderr",
          "text": [
            "Loss=0.6069265604019165 Batch_id=390 Accuracy=77.25: 100%|██████████| 391/391 [00:22<00:00, 17.13it/s]\n"
          ]
        },
        {
          "output_type": "stream",
          "name": "stdout",
          "text": [
            "\n",
            "Test set: Average loss: 0.4980, Accuracy: 8310/10000 (83.10%)\n",
            "\n",
            "EPOCH: 78\n"
          ]
        },
        {
          "output_type": "stream",
          "name": "stderr",
          "text": [
            "Loss=0.5485225915908813 Batch_id=390 Accuracy=81.23: 100%|██████████| 391/391 [00:19<00:00, 19.87it/s]\n"
          ]
        },
        {
          "output_type": "stream",
          "name": "stdout",
          "text": [
            "\n",
            "Test set: Average loss: 0.4285, Accuracy: 8535/10000 (85.35%)\n",
            "\n"
          ]
        },
        {
          "output_type": "stream",
          "name": "stderr",
          "text": [
            "Loss=0.8768221139907837 Batch_id=390 Accuracy=77.46: 100%|██████████| 391/391 [00:22<00:00, 17.67it/s]\n"
          ]
        },
        {
          "output_type": "stream",
          "name": "stdout",
          "text": [
            "\n",
            "Test set: Average loss: 0.4979, Accuracy: 8304/10000 (83.04%)\n",
            "\n",
            "EPOCH: 79\n"
          ]
        },
        {
          "output_type": "stream",
          "name": "stderr",
          "text": [
            "Loss=0.49773159623146057 Batch_id=390 Accuracy=81.32: 100%|██████████| 391/391 [00:19<00:00, 19.86it/s]\n"
          ]
        },
        {
          "output_type": "stream",
          "name": "stdout",
          "text": [
            "\n",
            "Test set: Average loss: 0.4282, Accuracy: 8543/10000 (85.43%)\n",
            "\n"
          ]
        },
        {
          "output_type": "stream",
          "name": "stderr",
          "text": [
            "Loss=0.6468020677566528 Batch_id=390 Accuracy=77.42: 100%|██████████| 391/391 [00:22<00:00, 17.36it/s]\n"
          ]
        },
        {
          "output_type": "stream",
          "name": "stdout",
          "text": [
            "\n",
            "Test set: Average loss: 0.4997, Accuracy: 8301/10000 (83.01%)\n",
            "\n"
          ]
        }
      ]
    },
    {
      "cell_type": "code",
      "source": [
        "from components.plot_util import plot_loss_accuracy\n",
        "\n",
        "%matplotlib inline\n",
        "plot_loss_accuracy(test_module1, test_module2)"
      ],
      "metadata": {
        "colab": {
          "base_uri": "https://localhost:8080/",
          "height": 497
        },
        "id": "rkt_I1MjuZjT",
        "outputId": "150025d4-8adb-47fd-ea62-78603318f3b2"
      },
      "execution_count": 14,
      "outputs": [
        {
          "output_type": "display_data",
          "data": {
            "text/plain": [
              "<Figure size 576x576 with 2 Axes>"
            ],
            "image/png": "[encoded data removed]"
          },
          "metadata": {
            "needs_background": "light"
          }
        }
      ]
    },
    {
      "cell_type": "code",
      "source": [],
      "metadata": {
        "id": "dXigQgGTufxu"
      },
      "execution_count": null,
      "outputs": []
    }
  ]
}